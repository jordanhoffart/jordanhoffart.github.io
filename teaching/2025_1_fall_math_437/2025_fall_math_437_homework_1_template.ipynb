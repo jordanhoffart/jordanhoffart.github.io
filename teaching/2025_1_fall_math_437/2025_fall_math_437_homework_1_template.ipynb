{
  "nbformat": 4,
  "nbformat_minor": 0,
  "metadata": {
    "colab": {
      "provenance": []
    },
    "kernelspec": {
      "name": "python3",
      "display_name": "Python 3"
    },
    "language_info": {
      "name": "python"
    }
  },
  "cells": [
    {
      "cell_type": "code",
      "execution_count": null,
      "metadata": {
        "id": "IAdIlYh02gos"
      },
      "outputs": [],
      "source": [
        "from math import sin, cos, log"
      ]
    },
    {
      "cell_type": "code",
      "source": [
        "def fixed_point_iteration(g, x_0, tol=1e-16, max_iter=1000):\n",
        "    \"\"\"\n",
        "    A generic fixed-point iteration algorithm.\n",
        "\n",
        "    Given a function g(x) and an initial value x_0, find a solution to the equation g(x) = x close to x_0.\n",
        "\n",
        "    We return (x_iter, resid, iter, iterates), where\n",
        "    - x_iter is the solution obtained after iter iterations with residual resid,\n",
        "    - iterates is a list of the full sequence of computed values [x_0, ..., x_iter] from the algorithm.\n",
        "    \"\"\"\n",
        "    x_1 = 0 # fixme\n",
        "    resid = 0 # fixme\n",
        "    iter = 0 # fixme\n",
        "    iterates = [x_0, x_1]\n",
        "    while resid > tol and iter < max_iter:\n",
        "        x_0 = 0 # fixme\n",
        "        x_1 = 0  # fixme\n",
        "        resid = 0 # fixme\n",
        "        iter += 1\n",
        "        iterates.append(x_1)\n",
        "    return x_1, iter, resid, iterates\n",
        "\n",
        "def compute_convergence_rates_fixed_point_iteration(iterates):\n",
        "    \"\"\"\n",
        "    Given a list of initial iterates [x_0, x_1, ..., x_iter] from a fixed point iteration converging to x_*, we estimate the order of convergence r such that\n",
        "\n",
        "    |x_* - x_n| <= C * |x_* - x_{n-1}| ** r\n",
        "\n",
        "    for all n sufficiently large. Here, C is a constant independent of the sequence (x_n)_n.\n",
        "\n",
        "    We return ([r_2,...,r_{iter-2}], [C_2,...,C_{iter-2}]), where r_n, C_n are the rate and constant estimated using the data points x_iter, x_n, x_{n-1}, and x_{n-2} respectively.\n",
        "    \"\"\"\n",
        "    rates = []\n",
        "    constants = []\n",
        "    # sometimes iterates[-1] == iterates[-2] up to double precision, which throws an error,so we skip this\n",
        "    for n in range(2,len(iterates)-2):\n",
        "        err_1 = 0 # fixme\n",
        "        err_2 = 0 # fixme\n",
        "        err_3 = 0 # fixme\n",
        "        rate = 0 # fixme\n",
        "        constant = 0 # fixme\n",
        "        rates.append(rate)\n",
        "        constants.append(constant)\n",
        "    return rates, constants\n",
        "\n",
        "def print_fixed_point_output(x_1, iter, resid, iterates):\n",
        "    print(\"Solution: {}\\nIterations: {}\\nResidual in the last iteration: {}\\nIterates: {}\".format(x_1,iter,resid,iterates))\n",
        "\n",
        "def print_convergence_rate_fixed_point_iteration(rates, constants):\n",
        "    print(\"Convergence rates: {}\\nConvergence constants: {}\".format(rates, constants))"
      ],
      "metadata": {
        "id": "SfJDe7jE7A7K"
      },
      "execution_count": null,
      "outputs": []
    },
    {
      "cell_type": "markdown",
      "source": [
        "# Question 1b"
      ],
      "metadata": {
        "id": "0-1KuLUO6R1e"
      }
    },
    {
      "cell_type": "code",
      "source": [
        "def Heron(x, y):\n",
        "    \"\"\"\n",
        "    Fixed-point function for Heron's method to estimate a square-root.\n",
        "    \"\"\"\n",
        "    return 0 # fixme\n",
        "\n",
        "def test_Herons_algorithm():\n",
        "    \"\"\"\n",
        "    Test our implementation of Heron's algorithm with y in {2, 10} and x_0 in {1, 10, 100}.\n",
        "    We print the solution, numer of iterations, and the residual for each case.\n",
        "    We also print the list of iterates x_0, ..., x_{iter}, the convergence rate estimates at each iteration, and the estimates for the constant of convergence at each iteration.\n",
        "    \"\"\"\n",
        "    print(\"Heron's algorithm test\\n\")\n",
        "    ys = [2, 10]\n",
        "    x_0s = [1, 10, 100]\n",
        "    for y in ys:\n",
        "        for x_0 in x_0s:\n",
        "            print(\"y = {}, x_0 = {}\".format(y, x_0))\n",
        "            x_1, iter, resid, iterates = fixed_point_iteration(lambda x: Heron(x, y), x_0)\n",
        "            print_fixed_point_output(x_1, iter, resid, iterates)\n",
        "            r, C = compute_convergence_rates_fixed_point_iteration(iterates)\n",
        "            print_convergence_rate_fixed_point_iteration(r, C)\n",
        "            print()\n",
        "\n",
        "test_Herons_algorithm()"
      ],
      "metadata": {
        "id": "tGjRnVp06YvR"
      },
      "execution_count": null,
      "outputs": []
    },
    {
      "cell_type": "markdown",
      "source": [
        "## Question I(b) discussion"
      ],
      "metadata": {
        "id": "o3z7dsi-LiM3"
      }
    },
    {
      "cell_type": "markdown",
      "source": [
        "# Question II(b)"
      ],
      "metadata": {
        "id": "tnSnNIWYMNPW"
      }
    },
    {
      "cell_type": "code",
      "source": [
        "def g_1(x, tau, E):\n",
        "    \"\"\"\n",
        "    See Question 2 in Homework 1.\n",
        "    \"\"\"\n",
        "    return 0 # fixme\n",
        "\n",
        "def g_2(x, tau, E):\n",
        "    \"\"\"\n",
        "    See Question 2 in Homework 1.\n",
        "    \"\"\"\n",
        "    return 0 # fixme\n",
        "\n",
        "def test_Keplers_equation():\n",
        "    \"\"\"\n",
        "    Test our implementation of fixed-point methods for Kepler's equation with E = 0.2 and tau = 2.\n",
        "\n",
        "    We recall that Kepler's equation is\n",
        "\n",
        "    x - E * sin(x) = tau\n",
        "\n",
        "    We use 2 different fixed-point functions for the test, and we take the initial value\n",
        "\n",
        "    x_0 = tau / (1 - E).\n",
        "\n",
        "    We print the solution, numer of iterations, and the residual for each case.\n",
        "    We also print the list of iterates x_0, ..., x_{iter}, the convergence rate estimates at each iteration, and the estimates for the constant of convergence at each iteration.\n",
        "    \"\"\"\n",
        "    print(\"Kepler's equation test\\n\")\n",
        "    tau = 2\n",
        "    E = 0.2\n",
        "    x_0 = tau / (1 - E)\n",
        "    gs = [g_1, g_2]\n",
        "    for i in range(2):\n",
        "        print(\"g = g_{}\".format(i+1))\n",
        "        x_1, iter, resid, iterates = fixed_point_iteration(lambda x: gs[i](x, tau, E), x_0)\n",
        "        print_fixed_point_output(x_1, iter, resid, iterates)\n",
        "        r, C = compute_convergence_rates_fixed_point_iteration(iterates)\n",
        "        print_convergence_rate_fixed_point_iteration(r, C)\n",
        "        print()\n",
        "\n",
        "test_Keplers_equation()\n"
      ],
      "metadata": {
        "id": "5tBN8KMe6IoK"
      },
      "execution_count": null,
      "outputs": []
    },
    {
      "cell_type": "markdown",
      "source": [
        "## Question II(b) discussion"
      ],
      "metadata": {
        "id": "qHMQVJ4sec3X"
      }
    }
  ]
}