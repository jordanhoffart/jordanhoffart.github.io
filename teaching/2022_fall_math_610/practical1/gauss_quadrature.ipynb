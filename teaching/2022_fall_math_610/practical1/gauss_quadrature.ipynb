{
 "cells": [
  {
   "cell_type": "markdown",
   "id": "7fda0fc4-8ed9-44ce-b62a-ed6a6de5ba3e",
   "metadata": {},
   "source": [
    "# Gaussian Quadrature\n",
    "\n",
    "Gaussian quadrature is a numerical integration technique that allows us to approximate certain integrals of certain functions with a fairly high degree of accuracy. This tutorial will show how to implement Gaussian quadrature in python.\n",
    "\n",
    "Suppose that we wish to integrate a differentiable real-valued function $f$ over some interval $[a,b]$. We stress that the function $f$ must be differentiable in order for Gaussian quadrature to be a good approximation. First, we can make a change of variables so that we integrate over $[-1,1]$. This is done purely for simplicity. By the change of variable $$x = \\frac{b-a}{2}s + \\frac{b+a}{2},$$ we have that $$\\int_a^bf(x)dx = \\frac{b-a}{2}\\int_{-1}^1f\\left(\\frac{b-a}{2}s + \\frac{b+a}{2}\\right)ds.$$ Once again, to simplify notation, let $$g(s) = f\\left(\\frac{b-a}{2}s + \\frac{b+a}{2}\\right).$$\n",
    "\n",
    "The main idea of Gaussian quadrature is that we can choose finitely many points $s_1, s_2, \\dots, s_n$ in the interval $[-1,1]$ and finitely many weights $w_1, w_2, \\dots, w_n$ so that $$\\int_{-1}^1g(s)ds \\approx \\sum_{i=1}^nw_ig(s_i).$$ From this, we can approximate our desired integral by $$\\int_a^bf(x)dx \\approx \\frac{b-a}{2}\\sum_{i=1}^nw_if\\left(\\frac{b-a}{2}s_i + \\frac{b+a}{2}\\right).$$ We can simplify the notation a little by definining $$x_i = \\frac{b-a}{2}s_i + \\frac{b+a}{2}.$$ Then $$\\int_a^bf(x)dx \\approx \\frac{b-a}{2}\\sum_{i=1}^nw_if(x_i).$$\n",
    "\n",
    "The weights $s_1, \\dots, s_n$ and points $w_1, \\dots, w_n$ are chosen so that whenever $f$ is a polynomial of degree at most $2n-1$, the quadrature approximation is actually exact. We list the points and weights for the $n=1$ (exact for degree $1$ polynomials), $n=2$ (exact for degree $3$ polynomials), and $n=3$ (exact for degree $5$ polynomials) cases below. Higher order Gaussian quadrature weights and points can be found on the Wikipedia page for Gaussian quadrature at https://en.wikipedia.org/wiki/Gaussian_quadrature.\n",
    "\n",
    "|n|points|weights|\n",
    "|---|---|---|\n",
    "|1|s_1 = 0|w_1 = 2|\n",
    "|2|s_1=-1/sqrt(3), s_2 = 1/sqrt(3)|w_1 = 1, w_2 = 1|\n",
    "|3|s_1 = -sqrt(3/5), s_2 = 0, s_3 = sqrt(3/5)|w_1 = 5/9, w_2 = 8/9, w_3 = 5/9|\n",
    "\n",
    "Now, we will show how to implement Gaussian quadrature in Python. As an example, we will first compute the integral of $f(x) = 2x$ over $[0,1]$. The exact answer should be $$\\int_{0}^12xdx = 1.$$ Next, we will compute $f(x) = 3x^2$ over $[-1,1]$. The exact answer should be $$\\int_{-1}^13x^2dx = 2.$$ Finally, we will compute the integral of $f(x) = (3\\pi/2)\\cos(\\pi x)$ over $[-1/2,1/2]$. The exact answer should be $$\\int_{-1/2}^{1/2}(3\\pi/2)\\cos(\\pi x)dx = 3.$$"
   ]
  },
  {
   "cell_type": "code",
   "execution_count": 1,
   "id": "510e9d7b-f497-4cc1-b47a-cc424ab25e78",
   "metadata": {},
   "outputs": [
    {
     "name": "stdout",
     "output_type": "stream",
     "text": [
      "f(x) = 2x\n",
      "gauss1(f,0,1) = 1.0\n",
      "gauss2(f,0,1) = 1.0\n",
      "gauss3(f,0,1) = 1.0\n",
      "\n",
      "f(x) = 3x**2\n",
      "gauss1(f,-1,1) = 0.0\n",
      "gauss2(f,-1,1) = 2.0000000000000004\n",
      "gauss3(f,-1,1) = 2.0000000000000004\n",
      "\n",
      "f(x) = (3pi/2)*cos(pi*x)\n",
      "gauss1(f,-1/2,1/2) = 4.71238898038469\n",
      "gauss2(f,-1/2,1/2) = 2.903729361976705\n",
      "gauss3(f,-1/2,1/2) = 3.0020833704116145\n"
     ]
    }
   ],
   "source": [
    "import numpy\n",
    "\n",
    "def f1(x): return 2*x\n",
    "\n",
    "def f2(x): return 3*x**2\n",
    "\n",
    "def f3(x): return 3*numpy.pi/2*numpy.cos(numpy.pi*x)\n",
    "\n",
    "def gauss1(f,a,b):\n",
    "    return (b-a)*f((b+a)/2)\n",
    "\n",
    "def gauss2(f,a,b):\n",
    "    x1 = (b-a)/2*(-1/numpy.sqrt(3)) + (b+a)/2\n",
    "    x2 = (b-a)/2*(1/numpy.sqrt(3)) + (b+a)/2\n",
    "    return (b-a)/2*(f(x1) + f(x2))\n",
    "\n",
    "def gauss3(f,a,b):\n",
    "    x1 = (b-a)/2*(-numpy.sqrt(3/5)) + (b+a)/2\n",
    "    x2 = (b+a)/2\n",
    "    x3 = (b-a)/2*(numpy.sqrt(3/5)) + (b+a)/2\n",
    "    return (b-a)/2*(5/9*f(x1) + 8/9*f(x2) + 5/9*f(x3))\n",
    "\n",
    "print(\"f(x) = 2x\")\n",
    "print(\"gauss1(f,0,1) =\",gauss1(f1,0,1))\n",
    "print(\"gauss2(f,0,1) =\",gauss2(f1,0,1))\n",
    "print(\"gauss3(f,0,1) =\",gauss3(f1,0,1))\n",
    "print()\n",
    "print(\"f(x) = 3x**2\")\n",
    "print(\"gauss1(f,-1,1) =\",gauss1(f2,-1,1))\n",
    "print(\"gauss2(f,-1,1) =\",gauss2(f2,-1,1))\n",
    "print(\"gauss3(f,-1,1) =\",gauss3(f2,-1,1))\n",
    "print()\n",
    "print(\"f(x) = (3pi/2)*cos(pi*x)\")\n",
    "print(\"gauss1(f,-1/2,1/2) =\", gauss1(f3,-1/2,1/2))\n",
    "print(\"gauss2(f,-1/2,1/2) =\", gauss2(f3,-1/2,1/2))\n",
    "print(\"gauss3(f,-1/2,1/2) =\", gauss3(f3,-1/2,1/2))"
   ]
  },
  {
   "cell_type": "markdown",
   "id": "4fbbcdd2-23cb-4a83-b29b-aa9df544e069",
   "metadata": {},
   "source": [
    "As we can see, both the first order ($n=1$), second order ($n=2$), and third order ($n=3$) Gaussian quadrature rules give exact answers for integrating $f(x) = 2x$. On the other hand, only the second and third order rule give an (essentially) exact answer for $f(x) = 3x^2$, while the first order rule isn't even close. All three quadrature rules give errors for integrating $f(x) = (3\\pi/2)\\cos(\\pi x)$, but the second order rule is significantly more accurate than the first order rule while the third order rule is only marginally more accurate than the second order rule. The moral of the story is that, when choosing a quadrature rule, one should only choose a high enough order rule to reach a desired accuracy. Using extremely high order quadrature rules gives minimal improvements to accuracy.\n",
    "\n",
    "We now know how to implement Gaussian quadrature for a differentiable real-valued function $f$ on an interval $[a,b]$. However, most functions that we encounter in practice may not be differentiable on an entire interval $[a,b]$ that we wish to integrate over. \n",
    "\n",
    "A common example of such a function is a piecewise linear function. More explicitly, suppose that we are given data points $(t_1,y_1), \\dots, (t_m,y_m)$ where $a \\leq t_1 < t_2 < \\cdots < t_m \\leq b$. Then the piecewise linear interpolant $g$ with respect to these data points is the function defined by the following property: on each subinterval $[t_i,t_{i+1}]$, $g$ is the straight line connecting the data point $(t_i,y_i)$ to $(t_{i+1}, y_{i+1})$. \n",
    "\n",
    "The graph of $g$ usually has sharp corners at the interpolation points $(t_i,y_i)$, and so $g$ is in general not differentiable at those points. As a result, Gaussian quadrature on the entire interval $[a,b]$ is not a good approximation to $$\\int_a^bg(t)dt.$$ On the other hand, we make the following two observations:\n",
    "1. If we restrict ourselves to just looking at each subinterval $[t_i,t_{i+1}]$, $g$ is just a linear function on that interval, and is definitely differentiable. As a result, Gaussian quadrature on $[t_i, t_{i+1}]$ is a good approximation to $$\\int_{t_i}^{t_{i+1}}g(t)dt.$$\n",
    "2. The integral of $g$ can be split up as integrals over the subintervals: $$\\int_a^bg(t)dt = \\sum_{i=1}^{m-1}\\int_{t_i}^{t_{i+1}}g(t)dt.$$\n",
    "\n",
    "Therefore, to approximate the integral of $g$ using Gaussian quadrature, we do the following two steps:\n",
    "1. First we approximate the integral of $g$ on each subinterval: $$\\int_{t_i}^{t_{i+1}}g(t)dt \\approx \\frac{t_{i+1}-t_i}{2}\\sum_{j=1}^nw_jg\\left(\\frac{t_{i+1}-t_i}{2}s_j + \\frac{t_i+t_{i+1}}{2}\\right),$$ where the pairs $(w_j, s_j)$ are the weights and points for the $n$-th order Gaussian quadrature rule and the $t_i$ are the nodes for which $g$ is linear on each $[t_i,t_{i+1}]$. \n",
    "\n",
    "2. We add up all of our approximations to approximate the entire integral of $g$ on $[a,b]$: $$\\int_a^bg(t)dt \\approx \\sum_{i=1}^{m-1}\\frac{t_{i+1}-t_i}{2}\\sum_{j=1}^nw_jg\\left(\\frac{t_{i+1}-t_i}{2}s_j + \\frac{t_i+t_{i+1}}{2}\\right).$$\n",
    "\n",
    "This simple modification of first breaking up the integral over $[a,b]$ into integrals over subintervals $[t_i,t_{i+1}]$ and then applying Gaussian quadrature to each piece gives us a method to approximate the integral of piecewise linear functions $g$ on an interval $[a,b]$. In fact, this method works for any function $g$ that is simply differentiable on each subinterval $[t_i,t_{i+1}]$; $g$ does not have to be linear on these intervals.\n",
    "\n",
    "We now know how to use Gaussian quadrature to approximate differentiable functions as well as piece-wise differentiable functions on an interval $[a,b]$. As a final example, we will compute a second order Gaussian quadrature of a piecewise linear function $g$ on $[0,1]$, first using the \"wrong\" method that doesn't split up the integral over the subintervals, and then using the \"right\" method that splits the integral over the subintervals. We define our function $g$ in such a way so that the exact integral should be $0$."
   ]
  },
  {
   "cell_type": "code",
   "execution_count": 14,
   "id": "0e1ccad9-de2c-4370-85bd-56d31ec9716a",
   "metadata": {},
   "outputs": [
    {
     "data": {
      "image/png": "[encoded data removed]",
      "text/plain": [
       "<Figure size 432x288 with 1 Axes>"
      ]
     },
     "metadata": {
      "needs_background": "light"
     },
     "output_type": "display_data"
    },
    {
     "name": "stdout",
     "output_type": "stream",
     "text": [
      "wrong integral =  0.15470053837925157\n",
      "right integral =  2.7755575615628914e-17\n"
     ]
    }
   ],
   "source": [
    "import numpy\n",
    "import matplotlib.pyplot\n",
    "import random\n",
    "\n",
    "ts = [-1 + 2*i/4 for i in range(0,5)]\n",
    "ys = [numpy.cos(10*numpy.pi*t) for t in ts]\n",
    "\n",
    "# we will use the numpy.interp function to define our linear interpolant g for the\n",
    "# (t,y) data\n",
    "\n",
    "def g(t): return numpy.interp(t, ts, ys)\n",
    "\n",
    "# let's plot g to see that it is not differentiable on the entire interval [0,1]\n",
    "\n",
    "matplotlib.pyplot.plot(ts, ys)\n",
    "matplotlib.pyplot.show()\n",
    "\n",
    "# now let's compute its integral over [0,1] the wrong way:\n",
    "\n",
    "print(\"wrong integral = \", gauss2(g, 0, 1))\n",
    "\n",
    "# now let's implement how to compute the integral the right way:\n",
    "\n",
    "right_integral = 0\n",
    "for i in range(len(ts)-1):\n",
    "    right_integral += gauss2(g, ts[i], ts[i+1])\n",
    "\n",
    "print(\"right integral = \", right_integral)"
   ]
  },
  {
   "cell_type": "markdown",
   "id": "1a561f69-5ad0-48cc-a3ca-3c1b63e8c50c",
   "metadata": {},
   "source": [
    "As we can see, not splitting up the integral can introduce significant errors into the integral computation."
   ]
  }
 ],
 "metadata": {
  "kernelspec": {
   "display_name": "Python 3 (ipykernel)",
   "language": "python",
   "name": "python3"
  },
  "language_info": {
   "codemirror_mode": {
    "name": "ipython",
    "version": 3
   },
   "file_extension": ".py",
   "mimetype": "text/x-python",
   "name": "python",
   "nbconvert_exporter": "python",
   "pygments_lexer": "ipython3",
   "version": "3.10.2"
  }
 },
 "nbformat": 4,
 "nbformat_minor": 5
}
