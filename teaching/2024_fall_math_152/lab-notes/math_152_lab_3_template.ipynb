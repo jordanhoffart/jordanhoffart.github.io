{
  "cells": [
    {
      "cell_type": "markdown",
      "source": [
        "#MATH 152 Lab 3"
      ],
      "metadata": {
        "id": "T3RbA0K3-w4b"
      },
      "id": "T3RbA0K3-w4b"
    },
    {
      "cell_type": "markdown",
      "source": [
        "Section:"
      ],
      "metadata": {
        "id": "iWURR7Fc-3_n"
      },
      "id": "iWURR7Fc-3_n"
    },
    {
      "cell_type": "markdown",
      "source": [
        "Names:"
      ],
      "metadata": {
        "id": "8Ksv378k_Mew"
      },
      "id": "8Ksv378k_Mew"
    },
    {
      "cell_type": "code",
      "execution_count": null,
      "id": "cbfab3f6",
      "metadata": {
        "id": "cbfab3f6"
      },
      "outputs": [],
      "source": [
        "def problem_1a():\n",
        "    import sympy as sp\n",
        "    from sympy.plotting import plot\n",
        "    # write your solution below this line\n",
        "\n",
        "    return\n",
        "\n",
        "problem_1a()"
      ]
    },
    {
      "cell_type": "code",
      "execution_count": null,
      "id": "6fd5ac31",
      "metadata": {
        "id": "6fd5ac31"
      },
      "outputs": [],
      "source": [
        "def problem_1b():\n",
        "    import sympy as sp\n",
        "    # write your solution below this line\n",
        "\n",
        "    return\n",
        "\n",
        "problem_1b()"
      ]
    },
    {
      "cell_type": "code",
      "execution_count": null,
      "id": "b0b7625e",
      "metadata": {
        "id": "b0b7625e"
      },
      "outputs": [],
      "source": [
        "def problem_1c():\n",
        "    import sympy as sp\n",
        "    # write your solution below this line\n",
        "\n",
        "    return\n",
        "\n",
        "problem_1c()"
      ]
    },
    {
      "cell_type": "code",
      "execution_count": null,
      "id": "be2f2c71",
      "metadata": {
        "id": "be2f2c71"
      },
      "outputs": [],
      "source": [
        "def problem_2a():\n",
        "    import sympy as sp\n",
        "    from sympy.plotting import plot\n",
        "    # write your solution below this line\n",
        "\n",
        "    return\n",
        "\n",
        "problem_2a()"
      ]
    },
    {
      "cell_type": "code",
      "execution_count": null,
      "id": "357bbf0f",
      "metadata": {
        "id": "357bbf0f"
      },
      "outputs": [],
      "source": [
        "def problem_2b():\n",
        "    import sympy as sp\n",
        "    # write your solution below this line\n",
        "\n",
        "    return\n",
        "\n",
        "problem_2b()"
      ]
    },
    {
      "cell_type": "code",
      "execution_count": null,
      "id": "9ebb9309",
      "metadata": {
        "id": "9ebb9309"
      },
      "outputs": [],
      "source": [
        "def problem_3a():\n",
        "    import sympy as sp\n",
        "    # write your solution below this line\n",
        "\n",
        "    return\n",
        "\n",
        "problem_3a()"
      ]
    },
    {
      "cell_type": "code",
      "execution_count": null,
      "id": "6c67d267",
      "metadata": {
        "id": "6c67d267"
      },
      "outputs": [],
      "source": [
        "def problem_3b():\n",
        "    import sympy as sp\n",
        "    # write your solution below this line\n",
        "\n",
        "    return\n",
        "\n",
        "problem_3b()"
      ]
    }
  ],
  "metadata": {
    "kernelspec": {
      "display_name": "Python 3 (ipykernel)",
      "language": "python",
      "name": "python3"
    },
    "language_info": {
      "codemirror_mode": {
        "name": "ipython",
        "version": 3
      },
      "file_extension": ".py",
      "mimetype": "text/x-python",
      "name": "python",
      "nbconvert_exporter": "python",
      "pygments_lexer": "ipython3",
      "version": "3.9.18"
    },
    "colab": {
      "provenance": []
    }
  },
  "nbformat": 4,
  "nbformat_minor": 5
}