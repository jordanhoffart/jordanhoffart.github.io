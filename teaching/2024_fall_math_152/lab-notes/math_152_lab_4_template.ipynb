{
  "nbformat": 4,
  "nbformat_minor": 0,
  "metadata": {
    "colab": {
      "provenance": []
    },
    "kernelspec": {
      "name": "python3",
      "display_name": "Python 3"
    },
    "language_info": {
      "name": "python"
    }
  },
  "cells": [
    {
      "cell_type": "markdown",
      "source": [
        "#MATH 152 Lab 4\n",
        "Section:\n",
        "\n",
        "Team members\n",
        "1. Name 1\n",
        "2. Name 2\n",
        "3. Name 3\n",
        "4. Name 4\n",
        "\n",
        "\n"
      ],
      "metadata": {
        "id": "ZPp9hTNGhooU"
      }
    },
    {
      "cell_type": "code",
      "source": [
        "import sympy as sp\n",
        "from sympy.plotting import plot\n",
        "from scipy.integrate import simpson, trapezoid"
      ],
      "metadata": {
        "id": "tuSz0aBtkq6C"
      },
      "execution_count": null,
      "outputs": []
    },
    {
      "cell_type": "markdown",
      "source": [
        "##Problem 1a\n",
        "We've covered how to plot in previous lab assignments."
      ],
      "metadata": {
        "id": "dXje898zjlfx"
      }
    },
    {
      "cell_type": "code",
      "source": [
        "# problem 1a\n",
        "x = sp.symbols('x')\n",
        "f = 0\n",
        "plot_left = 0\n",
        "plot_right = 1\n",
        "plot(f,(x,plot_left,plot_right))"
      ],
      "metadata": {
        "colab": {
          "base_uri": "https://localhost:8080/",
          "height": 504
        },
        "id": "DNL8ruv9l5v2",
        "outputId": "90b05689-fefb-42d1-c4fb-a11bf5f091b1"
      },
      "execution_count": null,
      "outputs": [
        {
          "output_type": "display_data",
          "data": {
            "text/plain": [
              "<Figure size 640x480 with 1 Axes>"
            ],
            "image/png": "[encoded data removed]"
          },
          "metadata": {}
        },
        {
          "output_type": "execute_result",
          "data": {
            "text/plain": [
              "<sympy.plotting.backends.matplotlibbackend.matplotlib.MatplotlibBackend at 0x7e8f6c4281f0>"
            ]
          },
          "metadata": {},
          "execution_count": 2
        }
      ]
    },
    {
      "cell_type": "markdown",
      "source": [
        "##Problem 1b\n",
        "Refer to the lab problems for the definition of a left Riemann integral and refer to the overview to see how to compute this in Python."
      ],
      "metadata": {
        "id": "bTAZ-Qj-jrc5"
      }
    },
    {
      "cell_type": "code",
      "execution_count": null,
      "metadata": {
        "colab": {
          "base_uri": "https://localhost:8080/"
        },
        "id": "N1e--L4BhfVh",
        "outputId": "82390c2c-e054-4a16-a703-6819bd4759c5"
      },
      "outputs": [
        {
          "output_type": "stream",
          "name": "stdout",
          "text": [
            "The left Riemann sum approximation to the integral with N = 500 is 0\n"
          ]
        }
      ],
      "source": [
        "# problem 1b\n",
        "def compute_left_riemann_integral(f, a, b, N):\n",
        "\n",
        "    return 0\n",
        "\n",
        "def f(x):\n",
        "    return 0\n",
        "\n",
        "N = 500\n",
        "a = 1\n",
        "b = 5\n",
        "\n",
        "left_riemann_integral = compute_left_riemann_integral(f, a, b, N)\n",
        "print('The left Riemann sum approximation to the integral with N = {} is {}'.format(N, left_riemann_integral))"
      ]
    },
    {
      "cell_type": "markdown",
      "source": [
        "##Problem 2\n",
        "Follow the same advice as in problem 1b."
      ],
      "metadata": {
        "id": "wtClpNGPj8I-"
      }
    },
    {
      "cell_type": "code",
      "source": [
        "# problem 2\n",
        "\n",
        "def compute_right_riemann_integral(f, a, b, N):\n",
        "    return 0\n",
        "\n",
        "right_riemann_integral = compute_right_riemann_integral(f, a, b, N)\n",
        "print('The right Riemann sum approximation to the integral with N = {} is {}'.format(N, right_riemann_integral))"
      ],
      "metadata": {
        "colab": {
          "base_uri": "https://localhost:8080/"
        },
        "id": "d9L2K8xCmJbB",
        "outputId": "53c9cb17-200c-4f65-c558-4f204949cac0"
      },
      "execution_count": null,
      "outputs": [
        {
          "output_type": "stream",
          "name": "stdout",
          "text": [
            "The right Riemann sum approximation to the integral with N = 500 is 0\n"
          ]
        }
      ]
    },
    {
      "cell_type": "markdown",
      "source": [
        "##Problem 3a\n",
        "Follow the same advice as in problem 1b."
      ],
      "metadata": {
        "id": "GDPk1lLnkGh-"
      }
    },
    {
      "cell_type": "code",
      "source": [
        "# problem 3a\n",
        "def compute_midpoint_riemann_integral(f, a, b, N):\n",
        "    return 0\n",
        "\n",
        "midpoint_riemann_integral = compute_midpoint_riemann_integral(f, a, b, N)\n",
        "print('The midpoint Riemann sum approximation to the integral with N = {} is {}'.format(N, midpoint_riemann_integral))"
      ],
      "metadata": {
        "colab": {
          "base_uri": "https://localhost:8080/"
        },
        "id": "S2z22s1bmJ9z",
        "outputId": "83cd9a53-f681-4c78-de96-26163610063a"
      },
      "execution_count": null,
      "outputs": [
        {
          "output_type": "stream",
          "name": "stdout",
          "text": [
            "The midpoint Riemann sum approximation to the integral with N = 500 is 0\n"
          ]
        }
      ]
    },
    {
      "cell_type": "markdown",
      "source": [
        "##Problem 3b\n",
        "Use your answers from 1b, 2, and 3a."
      ],
      "metadata": {
        "id": "DsKOjB6ZkNDa"
      }
    },
    {
      "cell_type": "code",
      "source": [
        "# problem 3b\n",
        "average_riemann_integral = 0\n",
        "print('The average of the left and right Riemann sums is {}, which is or is not equal to the midpoint Riemann sum approximation'.format(average_riemann_integral))"
      ],
      "metadata": {
        "colab": {
          "base_uri": "https://localhost:8080/"
        },
        "id": "KR4y09Rqotyy",
        "outputId": "0c7ef275-90ff-4450-b16c-8c78f444bd79"
      },
      "execution_count": null,
      "outputs": [
        {
          "output_type": "stream",
          "name": "stdout",
          "text": [
            "The average of the left and right Riemann sums is 0, which is or is not equal to the midpoint Riemann sum approximation\n"
          ]
        }
      ]
    },
    {
      "cell_type": "markdown",
      "source": [
        "##Problem 4a\n",
        "We use the composite trapezoid rule https://en.wikipedia.org/wiki/Trapezoidal_rule as implemented by SciPy https://docs.scipy.org/doc/scipy/reference/generated/scipy.integrate.trapezoid.html.\n",
        "Refer to the overview and the documentation to see how to call the relevant function."
      ],
      "metadata": {
        "id": "Mp0y3feNpgS5"
      }
    },
    {
      "cell_type": "code",
      "source": [
        "# problem 4a\n",
        "def compute_trapezoid_integral(f, a, b, N):\n",
        "    return 0\n",
        "\n",
        "trapezoid_integral = compute_trapezoid_integral(f, a, b, N)\n",
        "print('The composite trapezoid rule approximation to the integral with N = {} is {}'.format(N, trapezoid_integral))"
      ],
      "metadata": {
        "colab": {
          "base_uri": "https://localhost:8080/"
        },
        "id": "Zi34Sluhpyrt",
        "outputId": "abad677c-b212-4810-c1f1-aa0056f16898"
      },
      "execution_count": null,
      "outputs": [
        {
          "output_type": "stream",
          "name": "stdout",
          "text": [
            "The composite trapezoid rule approximation to the integral with N = 500 is 0\n"
          ]
        }
      ]
    },
    {
      "cell_type": "markdown",
      "source": [
        "##Problem 4b\n",
        "Use your answers from 1b, 2, and 4a."
      ],
      "metadata": {
        "id": "w8Aq-qtjkqA-"
      }
    },
    {
      "cell_type": "code",
      "source": [
        "# problem 4b\n",
        "print('The composite trapezoid rule is or is not equal to the average of the left and right Riemann sums')"
      ],
      "metadata": {
        "colab": {
          "base_uri": "https://localhost:8080/"
        },
        "id": "hoUouuHYp5xf",
        "outputId": "9705aa42-bd84-4444-ee04-7a4ac0a89bc8"
      },
      "execution_count": null,
      "outputs": [
        {
          "output_type": "stream",
          "name": "stdout",
          "text": [
            "The composite trapezoid rule is or is not equal to the average of the left and right Riemann sums\n"
          ]
        }
      ]
    },
    {
      "cell_type": "markdown",
      "source": [
        "##Problem 5\n",
        "We use the composite Simpson's rule https://en.wikipedia.org/wiki/Simpson%27s_rule#Composite_Simpson's_1/3_rule as implemented by SciPy https://docs.scipy.org/doc/scipy/reference/generated/scipy.integrate.simpson.html#scipy.integrate.simpson.\n",
        "Follow the same advice as in problem 4a.\n"
      ],
      "metadata": {
        "id": "8TXVqO4IqVLe"
      }
    },
    {
      "cell_type": "code",
      "source": [
        "# problem 5\n",
        "def compute_simpson_integral(f, a, b, N):\n",
        "    return 0\n",
        "\n",
        "simpson_integral = compute_simpson_integral(f, a, b, N)\n",
        "print('The composite Simpson\\'s rule approximation to the integral with N = {} is {}'.format(N, simpson_integral))"
      ],
      "metadata": {
        "colab": {
          "base_uri": "https://localhost:8080/"
        },
        "id": "VXbg6q0aq7gu",
        "outputId": "4e56b999-f5b9-456b-d3ac-2b485f0013a0"
      },
      "execution_count": null,
      "outputs": [
        {
          "output_type": "stream",
          "name": "stdout",
          "text": [
            "The composite Simpson's rule approximation to the integral with N = 500 is 0\n"
          ]
        }
      ]
    },
    {
      "cell_type": "markdown",
      "source": [
        "##Problem 6\n",
        "Follow the advice in the lab problems to compute the errors."
      ],
      "metadata": {
        "id": "ZHjbhoIHrPoF"
      }
    },
    {
      "cell_type": "code",
      "source": [
        "# problem 6\n",
        "def compute_error(exact, approximate):\n",
        "    return 0\n",
        "\n",
        "exact_integral = 0\n",
        "\n",
        "left_error = compute_error(exact_integral, left_riemann_integral)\n",
        "right_error = 0\n",
        "midpoint_error = 0\n",
        "trapezoid_error = 0\n",
        "simpsons_error = 0\n",
        "\n",
        "print('The absolute error for the left Riemann sum is {}'.format(left_error))\n",
        "print('The absolute error for the right Riemann sum is {}'.format(right_error))\n",
        "print('The absolute error for the midpoint Riemann sum is {}'.format(midpoint_error))\n",
        "print('The absolute error for the composite trapezoid rule is {}'.format(trapezoid_error))\n",
        "print('The absolute error for the composite Simpson\\'s rule is {}'.format(simpsons_error))"
      ],
      "metadata": {
        "colab": {
          "base_uri": "https://localhost:8080/"
        },
        "id": "Uf57UlOgtN3l",
        "outputId": "f1828335-c5b8-4a3c-e0c5-89d16441fd58"
      },
      "execution_count": null,
      "outputs": [
        {
          "output_type": "stream",
          "name": "stdout",
          "text": [
            "The absolute error for the left Riemann sum is 0\n",
            "The absolute error for the right Riemann sum is 0\n",
            "The absolute error for the midpoint Riemann sum is 0\n",
            "The absolute error for the composite trapezoid rule is 0\n",
            "The absolute error for the composite Simpson's rule is 0\n"
          ]
        }
      ]
    }
  ]
}