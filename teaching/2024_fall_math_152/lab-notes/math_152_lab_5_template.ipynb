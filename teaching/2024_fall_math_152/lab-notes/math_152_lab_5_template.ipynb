{
  "cells": [
    {
      "cell_type": "markdown",
      "id": "20c00fa5",
      "metadata": {
        "id": "20c00fa5"
      },
      "source": [
        "## MATH 152 Lab 5"
      ]
    },
    {
      "cell_type": "markdown",
      "id": "7c243ef1",
      "metadata": {
        "id": "7c243ef1"
      },
      "source": [
        "Put team members' names and section number here."
      ]
    },
    {
      "cell_type": "code",
      "execution_count": null,
      "id": "cf836732",
      "metadata": {
        "id": "cf836732"
      },
      "outputs": [],
      "source": [
        "import sympy as sp\n",
        "from sympy.plotting import (plot,plot_parametric)"
      ]
    },
    {
      "cell_type": "markdown",
      "id": "3169990f",
      "metadata": {
        "id": "3169990f"
      },
      "source": [
        "### Question 1"
      ]
    },
    {
      "cell_type": "markdown",
      "id": "f0561a86",
      "metadata": {
        "id": "f0561a86"
      },
      "source": [
        "#### 1a"
      ]
    },
    {
      "cell_type": "code",
      "execution_count": null,
      "id": "cbfab3f6",
      "metadata": {
        "id": "cbfab3f6"
      },
      "outputs": [],
      "source": [
        "# Enter code here\n",
        "x = # sp.symbols\n",
        "numerator =\n",
        "denominator =\n",
        "q, r = # quotient and remainder from polynomial long division, sp.div\n",
        "reduced_function = q + r / denominator\n",
        "display(reduced_function)"
      ]
    },
    {
      "cell_type": "markdown",
      "id": "42e39dbe-28df-4317-8916-a3a694513914",
      "metadata": {
        "id": "42e39dbe-28df-4317-8916-a3a694513914"
      },
      "source": [
        "#### 1b"
      ]
    },
    {
      "cell_type": "code",
      "execution_count": null,
      "id": "c2124daa-0132-4267-adaf-b5dcbc413f9c",
      "metadata": {
        "id": "c2124daa-0132-4267-adaf-b5dcbc413f9c"
      },
      "outputs": [],
      "source": [
        "# Enter code here\n",
        "factored_denominator = # sp.factor\n",
        "display(factored_denominator) # use this to determine the partial fraction decomposition\n",
        "A, B =  # the coefficients of the partial fraction decomposition, sp.symbols\n",
        "decomposition =  # the equation of the partial fraction decomposition, sp.Eq\n",
        "print()\n",
        "display(decomposition)\n",
        "coefficients =  # solve the equation for the coefficients, sp.solve\n",
        "print()\n",
        "display(coefficients)"
      ]
    },
    {
      "cell_type": "markdown",
      "id": "efdd616f",
      "metadata": {
        "id": "efdd616f"
      },
      "source": [
        "#### 1c"
      ]
    },
    {
      "cell_type": "code",
      "execution_count": null,
      "id": "898de08d",
      "metadata": {
        "id": "898de08d"
      },
      "outputs": [],
      "source": [
        "# Enter code here\n",
        "part_c = # sp.apart\n",
        "display(part_c)"
      ]
    },
    {
      "cell_type": "markdown",
      "id": "adba38fb",
      "metadata": {
        "id": "adba38fb"
      },
      "source": [
        "#### 1d"
      ]
    },
    {
      "cell_type": "code",
      "execution_count": null,
      "id": "068e0f93",
      "metadata": {
        "id": "068e0f93"
      },
      "outputs": [],
      "source": [
        "# Enter code here\n",
        "integral_part_c = # sp.integrate\n",
        "display(integral_part_c)\n",
        "print()\n",
        "direct_integral = # sp.integrate\n",
        "display(direct_integral)"
      ]
    },
    {
      "cell_type": "markdown",
      "id": "8b00f000",
      "metadata": {
        "id": "8b00f000"
      },
      "source": [
        "### Question 2"
      ]
    },
    {
      "cell_type": "markdown",
      "id": "ccffd0d0",
      "metadata": {
        "id": "ccffd0d0"
      },
      "source": [
        "#### 2a"
      ]
    },
    {
      "cell_type": "code",
      "execution_count": null,
      "id": "9ebb9309",
      "metadata": {
        "id": "9ebb9309"
      },
      "outputs": [],
      "source": [
        "# Enter code here\n",
        "x, a = # sp.symbols\n",
        "integral =  # sp.integrate, sp.oo\n",
        "equation =  # sp.Eq\n",
        "part_a =  # sp.solve\n",
        "part_a = part_a[0] # expect only one solution\n",
        "display(part_a)"
      ]
    },
    {
      "cell_type": "markdown",
      "id": "baa2be1a",
      "metadata": {
        "id": "baa2be1a"
      },
      "source": [
        "#### 2b"
      ]
    },
    {
      "cell_type": "code",
      "execution_count": null,
      "id": "92832935",
      "metadata": {
        "id": "92832935"
      },
      "outputs": [],
      "source": [
        "# Enter code here\n",
        "integrand =  # sp.exp\n",
        "left_integral = # sp.integrate\n",
        "right_integral = # sp.integrate, sp.oo\n",
        "equation = # sp.Eq\n",
        "part_b = # sp.solve\n",
        "part_b = part_b[0] # expect only one solution\n",
        "display(part_b)"
      ]
    },
    {
      "cell_type": "markdown",
      "id": "3dcc5f6d",
      "metadata": {
        "id": "3dcc5f6d"
      },
      "source": [
        "#### 2c"
      ]
    },
    {
      "cell_type": "code",
      "execution_count": null,
      "id": "67d0a563",
      "metadata": {
        "id": "67d0a563"
      },
      "outputs": [],
      "source": [
        "# Enter code here\n",
        "integral = # sp.integrate\n",
        "part_c = # integral.subs\n",
        "display(part_c)"
      ]
    },
    {
      "cell_type": "markdown",
      "id": "7e20a1d3",
      "metadata": {
        "id": "7e20a1d3"
      },
      "source": [
        "### Question 3"
      ]
    },
    {
      "cell_type": "markdown",
      "id": "f695ae23",
      "metadata": {
        "id": "f695ae23"
      },
      "source": [
        "#### 3a"
      ]
    },
    {
      "cell_type": "code",
      "execution_count": null,
      "id": "41756879",
      "metadata": {
        "id": "41756879"
      },
      "outputs": [],
      "source": [
        "# Enter code here\n",
        "g =\n",
        "integral = # sp.integrate, sp.oo\n",
        "display(integral)"
      ]
    },
    {
      "cell_type": "markdown",
      "id": "35d20561",
      "metadata": {
        "id": "35d20561"
      },
      "source": [
        "#### 3b"
      ]
    },
    {
      "cell_type": "code",
      "execution_count": null,
      "id": "21ea705e",
      "metadata": {
        "id": "21ea705e"
      },
      "outputs": [],
      "source": [
        "# Enter code here\n",
        "f = # sp.sin\n",
        "plot()"
      ]
    },
    {
      "cell_type": "markdown",
      "id": "e256ce52",
      "metadata": {
        "id": "e256ce52"
      },
      "source": [
        "#### 3c"
      ]
    },
    {
      "cell_type": "code",
      "execution_count": null,
      "id": "634d3d59",
      "metadata": {
        "id": "634d3d59"
      },
      "outputs": [],
      "source": [
        "# Enter code here\n",
        "integral = # sp.integrate, sp.oo\n",
        "display(integral)\n"
      ]
    },
    {
      "cell_type": "markdown",
      "id": "809cd585",
      "metadata": {
        "id": "809cd585"
      },
      "source": [
        "#### 3d"
      ]
    },
    {
      "cell_type": "code",
      "execution_count": null,
      "id": "9e851299",
      "metadata": {
        "id": "9e851299"
      },
      "outputs": [],
      "source": [
        "# Write your answer either in comments or in a print statement.\n",
        "\n"
      ]
    }
  ],
  "metadata": {
    "kernelspec": {
      "display_name": "Python 3 (ipykernel)",
      "language": "python",
      "name": "python3"
    },
    "language_info": {
      "codemirror_mode": {
        "name": "ipython",
        "version": 3
      },
      "file_extension": ".py",
      "mimetype": "text/x-python",
      "name": "python",
      "nbconvert_exporter": "python",
      "pygments_lexer": "ipython3",
      "version": "3.11.9"
    },
    "colab": {
      "provenance": []
    }
  },
  "nbformat": 4,
  "nbformat_minor": 5
}