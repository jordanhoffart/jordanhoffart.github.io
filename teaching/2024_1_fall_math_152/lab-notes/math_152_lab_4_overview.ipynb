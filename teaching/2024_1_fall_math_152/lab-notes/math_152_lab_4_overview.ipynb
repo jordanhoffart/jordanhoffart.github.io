{
  "cells": [
    {
      "cell_type": "markdown",
      "source": [
        "# MATH 152 Lab 4 Overview: Numerical Integration"
      ],
      "metadata": {
        "id": "AUdXhy6sBdL4"
      }
    },
    {
      "cell_type": "markdown",
      "metadata": {
        "id": "MIH_QCHb6xq_"
      },
      "source": [
        "Recall that the integral of a continuous function $f(x)$ on an interval $[a,b]$ is equal to the limit $$ \\int_a^b f(x)\\,\\mathrm dx = \\lim_{N\\to\\infty}\\sum_{i=1}^Nf(x_{i,N})\\Delta x_N $$ where $x_{i,N} := a + i\\Delta x_N$ and $\\Delta x_N := (b-a)/N$. Therefore, for large values of $N$, we expect that the sum on the right is a good approximation to the integral of $f$: $$ \\int_a^b f(x)\\,\\mathrm dx \\approx \\sum_{i=1}^Nf(x_{i,N})\\Delta x_N. $$ We will implement the sum on the right and use it to approximate the integral of $f(x) = e^{-x^2}$ on $[0,2]$."
      ]
    },
    {
      "cell_type": "code",
      "source": [
        "import sympy as sp\n",
        "\n",
        "# approximate the integral of a continuous function f(x) on an interval [a, b]\n",
        "# using a Riemann sum with N terms\n",
        "def integrate(f,a,b,N):\n",
        "    dx=(b-a)/N\n",
        "    integral = 0\n",
        "    for i in range(1,N+1): # range(m,n) = [m, m+1, ..., n-1]\n",
        "        xi = a + i*dx\n",
        "        integral = integral + f(xi)*dx\n",
        "    return integral\n",
        "\n",
        "# test our implementation with f(x) = e^{-x^2}\n",
        "def f(x):\n",
        "    return sp.exp(-x**2)\n",
        "\n",
        "# have SymPy compute the exact value for comparison\n",
        "x = sp.symbols('x')\n",
        "integral = sp.integrate(sp.exp(-x**2),(x,0,2))\n",
        "print(\"The true value is\",integral,\"~\",integral.evalf())\n",
        "print()\n",
        "\n",
        "# compute approximations with increasing values of N\n",
        "for N in [int(2**n) for n in range(10)]: # [1, 2, 4, 8, 16, ...]\n",
        "    exact = integral.evalf()\n",
        "    approx = integrate(f,0,2,N)\n",
        "    error = sp.Abs(approx - exact)/sp.Abs(exact)\n",
        "    print(\"The approximation with\\t\",N,\"\\tsubintervals is\\t\",approx,\"\\t with error\\t\",error)"
      ],
      "metadata": {
        "colab": {
          "base_uri": "https://localhost:8080/"
        },
        "id": "_lRwNJr_-5uQ",
        "outputId": "803925af-0941-4fae-a5b9-8cad40e1dbf0"
      },
      "execution_count": 1,
      "outputs": [
        {
          "output_type": "stream",
          "name": "stdout",
          "text": [
            "The true value is sqrt(pi)*erf(2)/2 ~ 0.882081390762422\n",
            "\n",
            "The approximation with\t 1 \tsubintervals is\t 0.0366312777774684 \t with error\t 0.958471771243461\n",
            "The approximation with\t 2 \tsubintervals is\t 0.386195080060176 \t with error\t 0.562177499599701\n",
            "The approximation with\t 4 \tsubintervals is\t 0.635197543846723 \t with error\t 0.279887830648265\n",
            "The approximation with\t 8 \tsubintervals is\t 0.758993246193225 \t with error\t 0.139542842483964\n",
            "The approximation with\t 16 \tsubintervals is\t 0.820630972696323 \t with error\t 0.0696652471185048\n",
            "The approximation with\t 32 \tsubintervals is\t 0.851379921516484 \t with error\t 0.0348057101844093\n",
            "The approximation with\t 64 \tsubintervals is\t 0.866736611468431 \t with error\t 0.0173961036415561\n",
            "The approximation with\t 128 \tsubintervals is\t 0.874410491221382 \t with error\t 0.00869636251413197\n",
            "The approximation with\t 256 \tsubintervals is\t 0.878246313597994 \t with error\t 0.00434775884015967\n",
            "The approximation with\t 512 \tsubintervals is\t 0.880163945336707 \t with error\t 0.00217377381021172\n"
          ]
        }
      ]
    },
    {
      "cell_type": "markdown",
      "source": [
        "We make the following observations:\n",
        "1. SymPy tells us that the exact value of $$ \\int_0^2 e^{-x^2}\\,\\mathrm dx = \\frac{\\sqrt{\\pi}}{2}\\operatorname{erf}(2), $$ where, by definition, $$ \\operatorname{erf}(x) := \\frac{2}{\\sqrt{\\pi}}\\int_0^x e^{-t^2}\\,\\mathrm dt. $$\n",
        "In other words, there is no way to actually find an antiderivative of $e^{-x^2}$ and use it to compute a useful representation of the exact value of the integral.\n",
        "We _must_ use numerical integration to compute a number that approximates this integral.\n",
        "\n",
        "2. Our numerical routine `integrate` does indeed let us approximate the integral, but it is not very accurate, and it is slow.\n",
        "We have to use $N \\geq 16$ to get at least 1 significant digit of accuracy and $N \\geq 512$ to get at least 2 siginficant digits of accuracy.\n",
        "In modern practice, most computations require at least 6 siginficant digits of accuracy to be considered even moderately accurate, which roughly corresponds to having a relative error smaller than $10^{-6}$.\n",
        "As it stands, our `integrate` routine is too slow and too innacurate to be practically useful.\n",
        "\n",
        "3. In contrast, the `.evalf()` method from SymPy gives us the numerical approximation to the integral with 15 significant digits of accuracy almost immediately.\n",
        "Their numerical algorithm is clearly better than the one we created.\n",
        "Therefore, in practice, it is generally better to try using tools that others have written before trying to implement things yourself.\n",
        "\n",
        "We will now showcase some other tools that are out there in the Python ecosystem to perform numerical integration.\n",
        "The primary one that we will showcase is the `scipy.integrate` subpackage from the `scipy` package https://docs.scipy.org/doc/scipy/tutorial/integrate.html.\n",
        "\n",
        "There are a lot of different integration routines provided by `scipy.integrate`.\n",
        "We will show one particular one called the Composite Simpson's rule https://en.wikipedia.org/wiki/Simpson%27s_rule#Composite_Simpson's_rule_for_irregularly_spaced_data.\n",
        "The particular details of this numerical integration method are beyond the scope of this course, but one should be aware that there are more sophisticated techniques out there that give faster and more accurate results.\n",
        "\n",
        "We will now use the Composite Simpson's rule to estimate the integral of $f(x) = e^{-x^2}$ on $[0,2]$ as above.\n",
        "We follow the documentation for this function https://docs.scipy.org/doc/scipy/reference/generated/scipy.integrate.simpson.html#scipy.integrate.simpson and provide what it needs to compute the integral."
      ],
      "metadata": {
        "id": "Lpt7yDChFW6n"
      }
    },
    {
      "cell_type": "code",
      "execution_count": null,
      "metadata": {
        "colab": {
          "base_uri": "https://localhost:8080/"
        },
        "id": "lDC4LDA36xrC",
        "outputId": "f93e7661-ec2c-412a-db82-7764a7c58f43"
      },
      "outputs": [
        {
          "output_type": "stream",
          "name": "stdout",
          "text": [
            "Exact\t0.882081390762422\n",
            "\n",
            "N\tNaive\t\t\tError\t\t\tSimpson\t\t\tError\n",
            "1\t0.0366312777774684\t0.958471771243461\t1.01831563888873\t0.154446346508409\n",
            "2\t0.386195080060176\t0.562177499599701\t0.829944467858168\t0.0591067031344915\n",
            "4\t0.635197543846723\t0.279887830648265\t0.881812425294116\t0.000304921372474588\n",
            "8\t0.758993246193225\t0.139542842483964\t0.882065510401332\t1.80032832075607e-5\n",
            "16\t0.820630972696323\t0.0696652471185048\t0.882080396576992\t1.12709035728636e-6\n",
            "32\t0.851379921516484\t0.0348057101844093\t0.882081328646356\t7.04198796765421e-8\n",
            "64\t0.866736611468431\t0.0173961036415561\t0.882081386880655\t4.40069004690365e-9\n",
            "128\t0.874410491221382\t0.00869636251413197\t0.882081390519820\t2.75033633065098e-10\n",
            "256\t0.878246313597994\t0.00434775884015967\t0.882081390747259\t1.71893739380475e-11\n",
            "512\t0.880163945336707\t0.00217377381021172\t0.882081390761474\t1.07437520363161e-12\n"
          ]
        }
      ],
      "source": [
        "from scipy.integrate import simpson\n",
        "\n",
        "# integrate a function f(x) on an interval [a,b] using the composite Simpson's\n",
        "# rule routine from SciPy with N+1 samples\n",
        "def integrate_simpson(f,a,b,N):\n",
        "    xs = [a + i*(b-a)/N for i in range(N+1)]\n",
        "    ys = [f(x) for x in xs]\n",
        "    return simpson(ys, x=xs)\n",
        "\n",
        "# compute approximations with Simpson's rule with increasing values of N and\n",
        "# compare with our naive integration method\n",
        "exact_integral = integral.evalf()\n",
        "print('Exact\\t'+str(exact_integral))\n",
        "print()\n",
        "print('N\\tNaive\\t\\t\\tError\\t\\t\\tSimpson\\t\\t\\tError')\n",
        "for N in [int(2**n) for n in range(10)]: # [1, 2, 4, 8, 16, ...]\n",
        "    naive_integral = integrate(f,0,2,N)\n",
        "    naive_error = sp.Abs(exact_integral - naive_integral) / sp.Abs(exact_integral)\n",
        "\n",
        "    simpson_integral = integrate_simpson(f,0,2,N)\n",
        "    simpson_error = sp.Abs(exact_integral - simpson_integral) / sp.Abs(exact_integral)\n",
        "\n",
        "    print(str(N)+'\\t'+str(naive_integral)+'\\t'+str(naive_error)+'\\t'+str(simpson_integral)+'\\t'+str(simpson_error))"
      ]
    },
    {
      "cell_type": "markdown",
      "source": [
        "Now we see that the Compsite Simpson rule gives us a more accurate answer much faster.\n",
        "We can achieve at least 6 digits of accuracy with only $N \\geq 32$, while our naive implementation only achieves an accuracy of 1 significant digit."
      ],
      "metadata": {
        "id": "oUj_E-3DdKYp"
      }
    }
  ],
  "metadata": {
    "kernelspec": {
      "display_name": "Python 3 (ipykernel)",
      "language": "python",
      "name": "python3"
    },
    "language_info": {
      "codemirror_mode": {
        "name": "ipython",
        "version": 3
      },
      "file_extension": ".py",
      "mimetype": "text/x-python",
      "name": "python",
      "nbconvert_exporter": "python",
      "pygments_lexer": "ipython3",
      "version": "3.9.18"
    },
    "colab": {
      "provenance": []
    }
  },
  "nbformat": 4,
  "nbformat_minor": 0
}