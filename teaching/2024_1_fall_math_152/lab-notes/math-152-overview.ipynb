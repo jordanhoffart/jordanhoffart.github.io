{
 "cells": [
  {
   "cell_type": "markdown",
   "id": "2dd37828",
   "metadata": {},
   "source": [
    "# INTRODUCTION TO PYTHON IN MATH 152\n",
    "\n",
    "Welcome to your Computer Lab for MATH 152!\n",
    "\n",
    "If you haven't taken MATH 151 here, you may be wondering, **\"Why a computer lab in a Calculus course?\"** There are several reasons discussed below. One\n",
    "major reason is that many of you are students in the College of Engineering and are learning (or will\n",
    "learn) Python in your ENGR 102 course. But several of you are NOT in the College of Engineering\n",
    "but will continue on in mathematics courses that require basic understanding of Python commands.\n",
    "This lab gives you an integrated curriculum; one whereby you apply techniques of Python\n",
    "programming to help solve basic mathematics problems. Generally, these computer labs will contain\n",
    "three types of problems:\n",
    "\n",
    "1. Problems which allow you to learn basic Python commands\n",
    "2. Problems which allow you to solve mathematics problems while eliminating the tedious algebraic and computational aspects usually done by hand.\n",
    "3. Problems which allow you to visualize some of the important principles of pre-Calculus to help improve conceptual understanding.\n",
    "\n",
    "### What if I didn't take 151 here?\n",
    "\n",
    "**Don't panic**. We will spend the first two labs reviewing the basic commands of Python that were used in 151 and will be used in 152 (numerical calculations, substituting, symbolic manipulation,solving equations, and plotting graphs).\n",
    "\n",
    "### When's the first assignment?\n",
    "\n",
    "Next week, since labs will be done in teams, so we need to wait until add/drop is finished. For now, some important information about the Python interface we will be using, Google Colab, and basics about the Python programming language itself."
   ]
  },
  {
   "cell_type": "markdown",
   "id": "c4a2c628",
   "metadata": {},
   "source": [
    "### Getting Started with Google Colab\n",
    "\n",
    "Great news! You don't need to download or install ANYTHING to get started with Google Colab! Just follow these instructions:\n",
    "\n",
    "- Go to **colab.google** (no .com) and sign in with your TAMU Gmail.\n",
    "- Click File > New Notebook in Drive to create a new notebook from scratch. OR\n",
    "- If you already have a notebook you want to edit, then click File > Upload Notebook, then you can drag/drop the notebooks you downloaded. You'll be using TEMPLATES for your code each week, so you'll need to do this whenever you download the new templates."
   ]
  },
  {
   "cell_type": "markdown",
   "id": "d55244a5",
   "metadata": {},
   "source": [
    "### Turning in your code:\n",
    "\n",
    "- First, RE-RUN EVERY BLOCK OF CODE in order from top to bottom!\n",
    "- Next, look over your blocks to ensure that every block has the output you need (if we can't see your answers, we can't give full credit for them!)\n",
    "- Then click File > Print.\n",
    "- In the print menu, there should be a PDF \"printer\" option. Use that as your \"printer\".\n",
    "- Depending on your instructor, you will either hand in a printed copy of your work physically, OR upload the PDF file to Gradescope. Either way, it is due at the beginning of the next week's lab period!"
   ]
  },
  {
   "cell_type": "markdown",
   "id": "b09d08c1",
   "metadata": {},
   "source": [
    "### About Python\n",
    "\n",
    "- Python is a free programming language with many options for free editors (we'll use Google Colab)\n",
    "- Large community, lots of packages encompassing a wide variety of features, including the tools we will use for symbolic calculations like what you'll see in your calculus classes!\n",
    "- Emphasizes readability above all else"
   ]
  },
  {
   "cell_type": "markdown",
   "id": "be0b85ff",
   "metadata": {},
   "source": [
    "### Getting Started: Writing your first block of code\n",
    "\n",
    "Your lab templates will already have code *blocks* made for you. These are where you will type in your code for each problem. Below, you'll see a block which is already filled in with some code. To run that code, click on the block, then click the arrow icon to the left of the block. Or press **Shift + Enter** on your keyboard."
   ]
  },
  {
   "cell_type": "code",
   "execution_count": null,
   "id": "15e85086",
   "metadata": {},
   "outputs": [],
   "source": [
    "# By the way, anything beginning with a \"#\" symbol is a COMMENT.\n",
    "# Use these to make notes on what your code is supposed to be doing.\n",
    "\n",
    "x = 17\n",
    "y = x**2 - 10*x + 2\n",
    "print(y)"
   ]
  },
  {
   "cell_type": "markdown",
   "id": "30d491a5",
   "metadata": {},
   "source": [
    "This is just a simple block of code that computes $(17)^2 - 10(17) + 2$ and displays the result on screen. However, we want Python to do more sophisticated things. In calculus, you'll learn how to compute limits, derivatives, and integrals, which requires an understanding of **symbolic expressions** (expressions involving an UNSPECIFIED variable $x$). How to make Python understand???"
   ]
  },
  {
   "cell_type": "markdown",
   "id": "d5085176",
   "metadata": {},
   "source": [
    "### Packages\n",
    "\n",
    "Packages are like mini-dictionaries for Python: they contain a list of new commands as well as instructions on what to do if Python sees one. Basic Python can't even do square roots, but there are packages out there that will \"teach\" Python how to do them.\n",
    "\n",
    "In this class, we will primarily use the **SymPy** package (short for \"Symbolic Python\") to allow Python to understand symbolic expressions, as well as functions like the square root, sin, cos, etc.\n",
    "\n",
    "To use a package, your code must begin with an **import statement** as you can see below:"
   ]
  },
  {
   "cell_type": "code",
   "execution_count": 2,
   "id": "e79f7dc6",
   "metadata": {},
   "outputs": [
    {
     "data": {
      "text/latex": [
       "$\\displaystyle 5$"
      ],
      "text/plain": [
       "5"
      ]
     },
     "metadata": {},
     "output_type": "display_data"
    }
   ],
   "source": [
    "import sympy as sp\n",
    "\n",
    "display(sp.sqrt(25))"
   ]
  },
  {
   "cell_type": "markdown",
   "id": "5924cd14",
   "metadata": {},
   "source": [
    "#### Why the \"as sp\"?\n",
    "\n",
    "Notice that we had to type **sp.** sqrt(25) instead of just sqrt(25). This is because we have to tell Python which package that command came from. **This is especially important as you learn other Python packages in your engineering classes, which have their own versions of sqrt or other functions.**\n",
    "\n",
    "Anyway, without the \"as sp\" part, we would have to type **sympy.sqrt(25)**, which doesn't seem like a big deal, but imagine if we were doing some complex calculation with lots of functions involved. Think about how tedious it would be to type out the full word \"sympy\" throughout it all!"
   ]
  },
  {
   "cell_type": "markdown",
   "id": "e24f5299",
   "metadata": {},
   "source": [
    "### Okay, now what did we use SymPy for in MATH 151?\n",
    "\n",
    "First, we define a variable type called a **symbol**. These are your **independent variables**, and with them you define **symbolic expressions**, just as you would define a function $f(x)$ on paper!"
   ]
  },
  {
   "cell_type": "code",
   "execution_count": 3,
   "id": "a7ac3ad4",
   "metadata": {},
   "outputs": [
    {
     "data": {
      "text/latex": [
       "$\\displaystyle x^{2} + 10 x + e^{x}$"
      ],
      "text/plain": [
       "x**2 + 10*x + exp(x)"
      ]
     },
     "metadata": {},
     "output_type": "display_data"
    }
   ],
   "source": [
    "x = sp.symbols('x')\n",
    "f = x**2 + 10*x + sp.exp(x)\n",
    "display(f)"
   ]
  },
  {
   "cell_type": "markdown",
   "id": "35ab3f1f",
   "metadata": {},
   "source": [
    "Notice that exponents in Python are written with **double-stars** and NOT the caret symbol (^).\n",
    "\n",
    "Also, notice that **sp.exp(x)** is the exponential function in SymPy. Almost any special function you have learned before has a command in SymPy for it.\n",
    "\n",
    "Next, here is a sample of what you saw if you took MATH 151:"
   ]
  },
  {
   "cell_type": "code",
   "execution_count": 4,
   "id": "d3a93890",
   "metadata": {},
   "outputs": [
    {
     "name": "stdout",
     "output_type": "stream",
     "text": [
      "f-prime is\n"
     ]
    },
    {
     "data": {
      "text/latex": [
       "$\\displaystyle 2 x + e^{x} + 10$"
      ],
      "text/plain": [
       "2*x + exp(x) + 10"
      ]
     },
     "metadata": {},
     "output_type": "display_data"
    },
    {
     "name": "stdout",
     "output_type": "stream",
     "text": [
      "The antiderivative of f is\n"
     ]
    },
    {
     "data": {
      "text/latex": [
       "$\\displaystyle \\frac{x^{3}}{3} + 5 x^{2} + e^{x}$"
      ],
      "text/plain": [
       "x**3/3 + 5*x**2 + exp(x)"
      ]
     },
     "metadata": {},
     "output_type": "display_data"
    },
    {
     "name": "stdout",
     "output_type": "stream",
     "text": [
      "f(0) is\n"
     ]
    },
    {
     "data": {
      "text/latex": [
       "$\\displaystyle 1$"
      ],
      "text/plain": [
       "1"
      ]
     },
     "metadata": {},
     "output_type": "display_data"
    }
   ],
   "source": [
    "print('f-prime is')\n",
    "display(sp.diff(f,x))\n",
    "print('The antiderivative of f is')\n",
    "display(sp.integrate(f,x))\n",
    "print('f(0) is')\n",
    "display(f.subs(x,0))"
   ]
  },
  {
   "cell_type": "markdown",
   "id": "d8a18b74",
   "metadata": {},
   "source": [
    "## Let's put calculus aside for the moment and talk more about basic programming with Python\n",
    "\n",
    "### Variable Types\n",
    "\n",
    "Like most other computer programs, Python stores values in variables. However, these variables can take on different forms, or types. The biggest difference is with type \"integer\" and type \"float\" as shown below:"
   ]
  },
  {
   "cell_type": "code",
   "execution_count": 5,
   "id": "a0154bdb",
   "metadata": {},
   "outputs": [
    {
     "name": "stdout",
     "output_type": "stream",
     "text": [
      "sqrt(5)= sqrt(5)\n",
      "sqrt(5.0)= 2.23606797749979\n"
     ]
    }
   ],
   "source": [
    "a=5 #This is type \"integer\". Also, the hashtag indicates these are comments which Pytho\n",
    "\"\"\"Notice when the line got too long, the comment got cut off.\n",
    "You may need to self create a new line for longer comments.\n",
    "For longer commenting sections or just a noticeable change of color,\n",
    "triple quotes may be a good commenting option\"\"\"\n",
    "#Or you can write new lines of comments\n",
    "#using multiple lines of hashtags\n",
    "b=5.0 #This is type \"float\"\n",
    "b=5.0 #This is type \"float\"\n",
    "print('sqrt(5)=',sp.sqrt(a))\n",
    "print('sqrt(5.0)=',sp.sqrt(b))"
   ]
  },
  {
   "cell_type": "markdown",
   "id": "d1e071ff",
   "metadata": {},
   "source": [
    "Notice that the first answer was left as the exact answer, sqrt(5), but the second answer was given as a decimal approximation. In SymPy, outputs are exact values UNLESS inputs are given as floating point decimals (type \"float\").\n",
    "\n",
    "Other types of variables are shown below:"
   ]
  },
  {
   "cell_type": "code",
   "execution_count": 7,
   "id": "dd380bb6",
   "metadata": {},
   "outputs": [],
   "source": [
    "c=[1,2,3,4] #List\n",
    "d=(1,2,3,4) #Tuple - we will use these for domains of graphs starting in Lab 3\n",
    "x=sp.symbols('x') #Symbolic variable - we will use these in Lab 2\n",
    "f={x:2} #Dictionary - can be used to make to make multiple substitutions\n",
    "# into one expression"
   ]
  },
  {
   "cell_type": "markdown",
   "id": "089f701c",
   "metadata": {},
   "source": [
    "## Review of Basic Python Commands\n",
    "\n",
    "**print:** If you want to print text or outputs of given commands, use the print( ) command. For string output, place single or double quotations around the words you'd like to print. For command or variable output, do not include quotations.\n",
    "\n",
    "For combinations of string and variable output, place a comma around the variable name."
   ]
  },
  {
   "cell_type": "code",
   "execution_count": 8,
   "id": "58c215db",
   "metadata": {},
   "outputs": [
    {
     "name": "stdout",
     "output_type": "stream",
     "text": [
      "Hello world.\n",
      "Hello world, the square root of 5 is approximately 2.23606797749979\n"
     ]
    }
   ],
   "source": [
    "print('Hello world.')\n",
    "print(\"Hello world, the square root of 5 is approximately\", sp.sqrt(b))"
   ]
  },
  {
   "cell_type": "markdown",
   "id": "c7c7f478",
   "metadata": {},
   "source": [
    "**if / else:** Sometimes you will want to print or perform commands based on certain conditions. In that case, an if / else statement could be helpful. Not all if statements require an else follow-up.\n",
    "\n",
    "Start your command with the conditional if( ): followed by what you would like to do if the condition is true. If you have a different condition that may also hold, you can follow with an elif( ): which is a shorthand version of \"else if\".\n",
    "\n",
    "If there are 3 or more options, you can end with else: to tell the computer what should happen if neither of the first conditions are met."
   ]
  },
  {
   "cell_type": "code",
   "execution_count": 9,
   "id": "27d2349f",
   "metadata": {},
   "outputs": [
    {
     "name": "stdout",
     "output_type": "stream",
     "text": [
      "I am neither happy nor sad. I am confused .\n"
     ]
    }
   ],
   "source": [
    "p='confused' #Single equal signs defines a variable\n",
    "if(p == 'happy'): #Double equal signs checks if this is true.\n",
    "    print('I am happy.')\n",
    "elif(p == 'sad'):\n",
    "    print('I am sad.')\n",
    "else:\n",
    "    print('I am neither happy nor sad. I am',p,'.')"
   ]
  },
  {
   "cell_type": "markdown",
   "id": "2f9367b8",
   "metadata": {},
   "source": [
    "The input above is fairly basic but can be combined with user input to give a more advanced result.\n",
    "\n",
    "**User input:** You can accept input from a user and store the input as a variable to be used later."
   ]
  },
  {
   "cell_type": "code",
   "execution_count": 10,
   "id": "4aa5b2e5",
   "metadata": {},
   "outputs": [
    {
     "name": "stdout",
     "output_type": "stream",
     "text": [
      "What's your name? qwerty\n",
      "Your name is qwerty ? That's a cool name.\n"
     ]
    }
   ],
   "source": [
    "name = input(\"What's your name? \")\n",
    "print(\"Your name is\",name,\"? That's a cool name.\")"
   ]
  },
  {
   "cell_type": "markdown",
   "id": "87565c2b",
   "metadata": {},
   "source": [
    "All user input is received in the string format. Sometimes you will need to use input to make calculations, so you may want to store it as a float or integer variable based on expected input."
   ]
  },
  {
   "cell_type": "code",
   "execution_count": 11,
   "id": "e9e8aa73",
   "metadata": {},
   "outputs": [
    {
     "name": "stdout",
     "output_type": "stream",
     "text": [
      "Enter an integer: 3\n",
      "Your number is odd.\n"
     ]
    }
   ],
   "source": [
    "num = int(input(\"Enter an integer: \"))\n",
    "if(num % 2 == 0): #Checks if there is a remainder when dividing by 2.\n",
    "    #if num % 2 = 0 then the number must be even.\n",
    "    print('Your number is even.')\n",
    "else:\n",
    "    print('Your number is odd.')"
   ]
  },
  {
   "cell_type": "code",
   "execution_count": 12,
   "id": "73ba060a",
   "metadata": {},
   "outputs": [
    {
     "name": "stdout",
     "output_type": "stream",
     "text": [
      "Enter an integer: 13.1\n"
     ]
    },
    {
     "ename": "ValueError",
     "evalue": "invalid literal for int() with base 10: '13.1'",
     "output_type": "error",
     "traceback": [
      "\u001b[1;31m---------------------------------------------------------------------------\u001b[0m",
      "\u001b[1;31mValueError\u001b[0m                                Traceback (most recent call last)",
      "Cell \u001b[1;32mIn[12], line 1\u001b[0m\n\u001b[1;32m----> 1\u001b[0m num \u001b[38;5;241m=\u001b[39m \u001b[38;5;28;43mint\u001b[39;49m\u001b[43m(\u001b[49m\u001b[38;5;28;43minput\u001b[39;49m\u001b[43m(\u001b[49m\u001b[38;5;124;43m\"\u001b[39;49m\u001b[38;5;124;43mEnter an integer: \u001b[39;49m\u001b[38;5;124;43m\"\u001b[39;49m\u001b[43m)\u001b[49m\u001b[43m)\u001b[49m\n\u001b[0;32m      2\u001b[0m \u001b[38;5;28;01mif\u001b[39;00m(num \u001b[38;5;241m%\u001b[39m \u001b[38;5;241m2\u001b[39m \u001b[38;5;241m==\u001b[39m \u001b[38;5;241m0\u001b[39m):\n\u001b[0;32m      3\u001b[0m     \u001b[38;5;28mprint\u001b[39m(\u001b[38;5;124m'\u001b[39m\u001b[38;5;124mYour number is even.\u001b[39m\u001b[38;5;124m'\u001b[39m)\n",
      "\u001b[1;31mValueError\u001b[0m: invalid literal for int() with base 10: '13.1'"
     ]
    }
   ],
   "source": [
    "num = int(input(\"Enter an integer: \"))\n",
    "if(num % 2 == 0):\n",
    "    print('Your number is even.')\n",
    "else:\n",
    "    print('Your number is odd.')"
   ]
  },
  {
   "cell_type": "markdown",
   "id": "dc1b40ff",
   "metadata": {},
   "source": [
    "Oops! The first time it worked but the second time we got an error. What happened?\n",
    "\n",
    "Notice that I did not input an integer our first line of code attempts to convert our input to an\n",
    "integer. Python is unable to convert a float variable to an integer (With good reason! We wouldn't\n",
    "really want it to without deciding how it rounds). We will come back to that error in a later\n",
    "assignment."
   ]
  },
  {
   "cell_type": "markdown",
   "id": "cd8c29c8",
   "metadata": {},
   "source": [
    "### Loops\n",
    "\n",
    "There are several versions of loops you may need to use in Python. The main two are for loops and\n",
    "while loops.\n",
    "\n",
    "**for loops:** For loops run a given set of commands for a certain number of iterations. The for loop\n",
    "will run until the iterations are complete.\n",
    "\n",
    "*indices:* Because for loops run for a certain number of iterations, indices are used as a counter to\n",
    "keep track of which iteration the command is on. Indices act like a variable that hasn't been formally\n",
    "defined, but instead pulls values from a given list. You can define the list before your for loop or\n",
    "within the first line.\n",
    "\n",
    "Examples:"
   ]
  },
  {
   "cell_type": "code",
   "execution_count": 13,
   "id": "1227d099",
   "metadata": {},
   "outputs": [
    {
     "name": "stdout",
     "output_type": "stream",
     "text": [
      "1\n",
      "2\n",
      "3\n",
      "4\n"
     ]
    }
   ],
   "source": [
    "for i in range(1,5):\n",
    "    print(i)"
   ]
  },
  {
   "cell_type": "markdown",
   "id": "05059c70",
   "metadata": {},
   "source": [
    "Notice this for loop did not print the number 5. The iterations stop upon reaching the final value\n",
    "and do not perform the command contained in the for loop for that final index. To print the number\n",
    "5, we need to end our iterations on 6."
   ]
  },
  {
   "cell_type": "code",
   "execution_count": 15,
   "id": "24d97ff3",
   "metadata": {},
   "outputs": [
    {
     "name": "stdout",
     "output_type": "stream",
     "text": [
      "1\n",
      "2\n",
      "3\n",
      "4\n",
      "5\n"
     ]
    }
   ],
   "source": [
    "for i in range(1,6):\n",
    "    print(i)"
   ]
  },
  {
   "cell_type": "markdown",
   "id": "2f585223",
   "metadata": {},
   "source": [
    "You can also explicitly list the values you would like to use as indices in a list either before the for\n",
    "loop or in the line of code."
   ]
  },
  {
   "cell_type": "code",
   "execution_count": 16,
   "id": "f4a7b10b",
   "metadata": {},
   "outputs": [
    {
     "name": "stdout",
     "output_type": "stream",
     "text": [
      "-4\n",
      "-2\n",
      "0\n",
      "2\n",
      "6\n",
      "24\n"
     ]
    }
   ],
   "source": [
    "list = [1,3,5,7,11,29]\n",
    "for i in list:\n",
    "    print(i-5)"
   ]
  },
  {
   "cell_type": "markdown",
   "id": "38148038",
   "metadata": {},
   "source": [
    "If you want to print a certain term in the list and not the entire list, you can refer to the list and the\n",
    "index of the value you want to print. The first item is the 0 index, so here the 6th term printed when\n",
    "we asked for list[5]."
   ]
  },
  {
   "cell_type": "code",
   "execution_count": 17,
   "id": "c618cae3",
   "metadata": {},
   "outputs": [
    {
     "name": "stdout",
     "output_type": "stream",
     "text": [
      "29\n"
     ]
    }
   ],
   "source": [
    "list = [1,3,5,7,11,29]\n",
    "print(list[5])"
   ]
  },
  {
   "cell_type": "markdown",
   "id": "6b96639d",
   "metadata": {},
   "source": [
    "Another helpful command is 'continue'. If you want to skip certain iterations, you can use an if\n",
    "statement or another for loop or while loop and the continue command and the for loop will skip the\n",
    "given iteration(s)."
   ]
  },
  {
   "cell_type": "code",
   "execution_count": 18,
   "id": "fc8f1dd7",
   "metadata": {},
   "outputs": [
    {
     "name": "stdout",
     "output_type": "stream",
     "text": [
      "circle\n",
      "square\n",
      "star\n",
      "hexagon\n"
     ]
    }
   ],
   "source": [
    "for i in ['circle','square','star','diamond','hexagon']:\n",
    "    if i=='diamond':\n",
    "        continue\n",
    "    print(i)"
   ]
  },
  {
   "cell_type": "markdown",
   "id": "ac8aebed",
   "metadata": {},
   "source": [
    "Additional continue example:"
   ]
  },
  {
   "cell_type": "code",
   "execution_count": 19,
   "id": "1b9d5e19",
   "metadata": {},
   "outputs": [
    {
     "name": "stdout",
     "output_type": "stream",
     "text": [
      "11\n",
      "13\n",
      "15\n",
      "17\n",
      "19\n"
     ]
    }
   ],
   "source": [
    "for i in range(10,21):\n",
    "    if (i % 2 == 0): #remember this checks if a value is even\n",
    "        continue\n",
    "    print(i)"
   ]
  },
  {
   "cell_type": "markdown",
   "id": "d4d8fe17",
   "metadata": {},
   "source": [
    "**while loops:** While loops run a given set of commands until a given condition is met. These\n",
    "function similarly to if statements, but will continue to do a given set of commands until the\n",
    "conditional statement is no longer true. A common error here is not including a command that will\n",
    "change the while statement. For instance:"
   ]
  },
  {
   "cell_type": "code",
   "execution_count": null,
   "id": "e68f4ae8",
   "metadata": {},
   "outputs": [],
   "source": [
    "num = 5\n",
    "while(num < 10):\n",
    "    print('The current number is',num,'.')"
   ]
  },
  {
   "cell_type": "markdown",
   "id": "48afece8",
   "metadata": {},
   "source": [
    "For the sake of space, I won't run this command because it will run forever. Notice the variable num\n",
    "never stops being 5, so the condition \"num < 10\" will always be true. We have to change the\n",
    "condition to stop the while loop."
   ]
  },
  {
   "cell_type": "code",
   "execution_count": 21,
   "id": "e295b6ed",
   "metadata": {},
   "outputs": [
    {
     "name": "stdout",
     "output_type": "stream",
     "text": [
      "The current number is 5\n",
      "The current number is 6\n",
      "The current number is 7\n",
      "The current number is 8\n",
      "The current number is 9\n"
     ]
    }
   ],
   "source": [
    "num = 5\n",
    "while(num < 10):\n",
    "    print('The current number is',num)\n",
    "    num += 1 #adds one to the num value"
   ]
  },
  {
   "cell_type": "markdown",
   "id": "b1834c53",
   "metadata": {},
   "source": [
    "Using this style of while loops, we can create similar results to for loops. We can also create more\n",
    "advanced user input interactions where Python won't exit the loop until the user inputs a correct set\n",
    "of characters.\n",
    "\n",
    "User input example:"
   ]
  },
  {
   "cell_type": "code",
   "execution_count": null,
   "id": "92fed8de",
   "metadata": {},
   "outputs": [],
   "source": [
    "guess = input(\"Guess the number I'm thinking. Pick a number between 1 and 10. \")\n",
    "while(guess != '3'): #while the guess is NOT 3, we want the user to keep guessing.\n",
    "    guess = input(\"Nope. Guess again! \")\n",
    "\n",
    "print('That\\'s it! Good guess!')"
   ]
  },
  {
   "cell_type": "markdown",
   "id": "2194659c",
   "metadata": {},
   "source": [
    "### Executing commands on variables\n",
    "\n",
    "In most cases, when you want to perform a command on a variable (or function stored as a variable), the correct Python syntax is\n",
    "\n",
    "**variable.command**\n",
    "\n",
    "instead of \"command(variable)\", as demonstrated in the example below (though sometimes either format works-but not always!)"
   ]
  },
  {
   "cell_type": "code",
   "execution_count": 22,
   "id": "885d3acc",
   "metadata": {},
   "outputs": [
    {
     "data": {
      "text/latex": [
       "$\\displaystyle \\left(x - 5\\right) \\left(x - 3\\right)$"
      ],
      "text/plain": [
       "(x - 5)*(x - 3)"
      ]
     },
     "execution_count": 22,
     "metadata": {},
     "output_type": "execute_result"
    }
   ],
   "source": [
    "f=x**2-8*x+15 #Recall we defined x as a symbolic variable in a previous block of commands\n",
    "\n",
    "\"\"\"NOTICE that \"x squared\" is NOT entered as x^2, but as x**2!!!\"\"\"\n",
    "\n",
    "f.factor() #We can use this syntax to factor the expression"
   ]
  },
  {
   "cell_type": "code",
   "execution_count": 23,
   "id": "8c9c1059",
   "metadata": {},
   "outputs": [
    {
     "data": {
      "text/latex": [
       "$\\displaystyle 12.4444444444444$"
      ],
      "text/plain": [
       "12.4444444444444"
      ]
     },
     "execution_count": 23,
     "metadata": {},
     "output_type": "execute_result"
    }
   ],
   "source": [
    "f.subs(x,1/3) #We want to substitute x=1/3 into f, or evaluate f(1/3).\n",
    "#Notice we get a float answer. Python reads '1/3' as \"1 divided by 3\""
   ]
  },
  {
   "cell_type": "code",
   "execution_count": 25,
   "id": "b521806c",
   "metadata": {},
   "outputs": [
    {
     "data": {
      "text/latex": [
       "$\\displaystyle \\frac{112}{9}$"
      ],
      "text/plain": [
       "112/9"
      ]
     },
     "execution_count": 25,
     "metadata": {},
     "output_type": "execute_result"
    }
   ],
   "source": [
    "f.subs(x,sp.Rational(1,3)) #If we want an exact answer, the \"Rational\" command\n",
    "#treats the input as a ratio instead of \"1 divided by 3\", or 0.333333333333..."
   ]
  },
  {
   "cell_type": "markdown",
   "id": "60a7eda1",
   "metadata": {},
   "source": [
    "Other Python functions may be useful to you along the way. We can check a given variable contains\n",
    "all numbers, all letters, or a combination of the two; can capitalize a word, sort a list, append an item\n",
    "to a list, etc. We will use functions like this throughout the semester."
   ]
  },
  {
   "cell_type": "code",
   "execution_count": 26,
   "id": "c827ba22",
   "metadata": {},
   "outputs": [
    {
     "name": "stdout",
     "output_type": "stream",
     "text": [
      "Type a lowercase word: 12aggie\n",
      "Please type only letters. Type a lowercase word: aggie1212\n",
      "Please type only letters. Type a lowercase word: aggie\n",
      "Aggie\n"
     ]
    }
   ],
   "source": [
    "word=input('Type a lowercase word: ')\n",
    "while (word.isalpha()==False):\n",
    "    word=input('Please type only letters. Type a lowercase word: ')\n",
    "\n",
    "print(word.capitalize())"
   ]
  },
  {
   "cell_type": "markdown",
   "id": "99c556ab",
   "metadata": {},
   "source": [
    "**Don't worry if you didn't do Python in 151 and/or didn't get all of this right away**. We will spend the first two labs going over these data types and commands in greater detail! In addition, there are Python instructional videos\n",
    "available throughout the semester at the Math Learning Center: http://mlc.tamu.edu/SupplementalMaterial/Python-mini-course"
   ]
  },
  {
   "cell_type": "markdown",
   "id": "e74a8245",
   "metadata": {},
   "source": [
    "### ONE LAST WORD OF CAUTION: Take care not to mix up SymPy with the NumPy or Math packages.\n",
    "\n",
    "In your engineering classes, you will come across the NumPy package, which allows you to deal with massive arrays of data, and the Math package, which gives basic numerical versions of functions like square roots. The math functions that come from those packages are NOT compatible with SymPy, so do NOT use the NumPy or Math packages in this class, unless told otherwise! I'll end this with an example:"
   ]
  },
  {
   "cell_type": "code",
   "execution_count": 27,
   "id": "7f7a9892",
   "metadata": {},
   "outputs": [
    {
     "ename": "TypeError",
     "evalue": "loop of ufunc does not support argument 0 of type Symbol which has no callable sin method",
     "output_type": "error",
     "traceback": [
      "\u001b[1;31m---------------------------------------------------------------------------\u001b[0m",
      "\u001b[1;31mAttributeError\u001b[0m                            Traceback (most recent call last)",
      "\u001b[1;31mAttributeError\u001b[0m: 'Symbol' object has no attribute 'sin'",
      "\nThe above exception was the direct cause of the following exception:\n",
      "\u001b[1;31mTypeError\u001b[0m                                 Traceback (most recent call last)",
      "Cell \u001b[1;32mIn[27], line 5\u001b[0m\n\u001b[0;32m      1\u001b[0m \u001b[38;5;28;01mimport\u001b[39;00m \u001b[38;5;21;01mnumpy\u001b[39;00m \u001b[38;5;28;01mas\u001b[39;00m \u001b[38;5;21;01mnp\u001b[39;00m\n\u001b[0;32m      3\u001b[0m z \u001b[38;5;241m=\u001b[39m sp\u001b[38;5;241m.\u001b[39msymbols(\u001b[38;5;124m'\u001b[39m\u001b[38;5;124mz\u001b[39m\u001b[38;5;124m'\u001b[39m)\n\u001b[1;32m----> 5\u001b[0m f \u001b[38;5;241m=\u001b[39m \u001b[43mnp\u001b[49m\u001b[38;5;241;43m.\u001b[39;49m\u001b[43msin\u001b[49m\u001b[43m(\u001b[49m\u001b[43mz\u001b[49m\u001b[43m)\u001b[49m\n",
      "\u001b[1;31mTypeError\u001b[0m: loop of ufunc does not support argument 0 of type Symbol which has no callable sin method"
     ]
    }
   ],
   "source": [
    "import numpy as np\n",
    "\n",
    "z = sp.symbols('z')\n",
    "\n",
    "f = np.sin(z)"
   ]
  },
  {
   "cell_type": "markdown",
   "id": "e7c1d2ec",
   "metadata": {},
   "source": [
    "It certainly doesn't help that NumPy's error messages are written like that. A simple \"NumPy functions cannot take in that data type.\" would have sufficed.\n",
    "\n",
    "Let's use SymPy's own version of sin instead:"
   ]
  },
  {
   "cell_type": "code",
   "execution_count": 28,
   "id": "70879abd",
   "metadata": {},
   "outputs": [
    {
     "data": {
      "text/latex": [
       "$\\displaystyle \\sin{\\left(z \\right)}$"
      ],
      "text/plain": [
       "sin(z)"
      ]
     },
     "execution_count": 28,
     "metadata": {},
     "output_type": "execute_result"
    }
   ],
   "source": [
    "f = sp.sin(z)\n",
    "f"
   ]
  },
  {
   "cell_type": "markdown",
   "id": "904937dd",
   "metadata": {},
   "source": [
    "The moral of the story: SymPy has its own versions of pi/E/sin/log/etc. for a reason- use them!"
   ]
  },
  {
   "cell_type": "code",
   "execution_count": null,
   "id": "c0a0f729",
   "metadata": {},
   "outputs": [],
   "source": []
  }
 ],
 "metadata": {
  "kernelspec": {
   "display_name": "Python 3 (ipykernel)",
   "language": "python",
   "name": "python3"
  },
  "language_info": {
   "codemirror_mode": {
    "name": "ipython",
    "version": 3
   },
   "file_extension": ".py",
   "mimetype": "text/x-python",
   "name": "python",
   "nbconvert_exporter": "python",
   "pygments_lexer": "ipython3",
   "version": "3.9.18"
  }
 },
 "nbformat": 4,
 "nbformat_minor": 5
}
