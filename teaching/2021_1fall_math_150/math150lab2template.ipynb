{
 "cells": [
  {
   "cell_type": "markdown",
   "id": "f9636b60",
   "metadata": {},
   "source": [
    "# MATH 150 Lab 2\n",
    "\n",
    "## Section Number: \n",
    "\n",
    "## Group Member Names: "
   ]
  },
  {
   "cell_type": "markdown",
   "id": "eaf6d318",
   "metadata": {},
   "source": [
    "### Problem 1\n",
    "\n",
    "Write a program that does the following:\n",
    "\n",
    "1. Ask the user for two real numbers, $a$ and $b$.\n",
    "2. Compute the quantity $\\frac{3a^2 - 8}{3b}$ and print the result to the screen.\n",
    "3. Use a while loop to ask the user if they wish to start over or if they wish to end the program.\n",
    "\n",
    "Use the following template below to start. Make the appropriate modifications to your code as asked for in the comments. Test your code by computing the desired quantity with the following values for $a$ and $b$:\n",
    "\n",
    "1. $a = 2$, $b = -1$\n",
    "2. $a = \\frac{1}{3}$, $b = 4$\n",
    "3. $a = -5$, $b = 9$ "
   ]
  },
  {
   "cell_type": "code",
   "execution_count": 4,
   "id": "b4c4cdd9",
   "metadata": {},
   "outputs": [],
   "source": [
    "start_over = \"yes\"\n",
    "\n",
    "while False: # replace False with a condition involving start_over inside the parentheses\n",
    "    a = 1 # replace 1 with some code asking for the user to input a value for a\n",
    "    b = 1 # replace 1 with some code asking for the user to input a value for b\n",
    "    print(\"Given a = \",a,\"and b = \",b,\", (3a**2 - 8)/(3b) = \", 0,\".\",sep = \"\") # replace 0 with the correct \n",
    "    # expression that calculates (3a**2 - 8)/(3b)\n",
    "    start_over = \"no\" # replace \"no\" with some code that asks the user to input if they wish to start over or not. "
   ]
  },
  {
   "cell_type": "markdown",
   "id": "a561ea22",
   "metadata": {},
   "source": [
    "### Problem 2\n",
    "\n",
    "Write a program that does the following:\n",
    "\n",
    "1. Ask the user for three real numbers $a$, $b$, and $c$.\n",
    "2. Solve the quadratic equation $ax^2 + bx + c = 0$ over the complex numbers.\n",
    "3. Print the solutions to the quadratic equation to the screen.\n",
    "\n",
    "Use the following template below to start. Make the appropriate modifications to your code as asked for in the comments. Test your code by running it with the following choices of $a$, $b$, and $c$:\n",
    "\n",
    "1. $a = 1$, $b = -3$, $c = -4$\n",
    "2. $a = 2$, $b = 5$, $c = -12$\n",
    "3. $a = 1$, $b = 2$, $c = 3$\n",
    "\n",
    "You should test your code with all three cases, but only output the solutions for the last case."
   ]
  },
  {
   "cell_type": "code",
   "execution_count": null,
   "id": "62ddefc9",
   "metadata": {},
   "outputs": [],
   "source": [
    "from sympy import * \n",
    "x = symbols('x')\n",
    "\n",
    "a = 1 # replace 1 with some code asking for the user to input a value for a\n",
    "b = 1 # replace 1 with some code asking for the user to input a value for b\n",
    "c = 1 # replace 1 with some code asking for the user to input a value for c\n",
    "\n",
    "solutions = 1 # replace 1 with some code that solves ax**2 + bx + c = 0\n",
    "\n",
    "print(\"The solutions to \",a,\"x**2 + \",b,\"x + \",c,\" = 0 are x = \",solutions,\".\",sep=\"\")"
   ]
  },
  {
   "cell_type": "markdown",
   "id": "a6ca6c61",
   "metadata": {},
   "source": [
    "### Problem 3\n",
    "\n",
    "Write a program that does the following:\n",
    "\n",
    "1. Ask the user for 4 real numbers $a$, $b$, $c$, and $d$.\n",
    "2. If we let $z = a + bi$ and $w = c + di$ be complex numbers, then add $z + w$ and multiply $zw$.\n",
    "3. Print the results $z + w$ and $zw$ to the screen.\n",
    "\n",
    "Recall that the addition and multiplication of the two complex numbers $z$ and $w$ as defined above is given by $$z + w = (a + c) + (b+d)i$$ and $$zw = (ac - bd) + (ad + bc)i$$\n",
    "\n",
    "Use the following template below to start. Make the appropriate modifications to your code as asked for in the comments. Test your code with $a = 1$, $c = 3$, $b = 2$, and $d = 1$."
   ]
  },
  {
   "cell_type": "code",
   "execution_count": null,
   "id": "1d453ac2",
   "metadata": {},
   "outputs": [],
   "source": [
    "a = 1 # replace 1 with some code asking for the user to input a value for a\n",
    "b = 1 # replace 1 with some code asking for the user to input a value for b\n",
    "c = 1 # replace 1 with some code asking for the user to input a value for c\n",
    "d = 1 # replace 1 with some code asking for the user to input a value for d\n",
    "\n",
    "print(\"With z = \",a,\" + \",b,\"i and w = \",c,\" + \",d,\"i, we have that\", sep=\"\")\n",
    "print(\"z + w = \",1,\" + \",2,\"i, and\",sep=\"\") # replace 1 and 2 with the appropriate expressions involving a, b, c, \n",
    "# and d that give the correct value of z + w\n",
    "print(\"zw = \",1,\" + \",2,\"i.\",sep=\"\") #replace 1 and 2 with the appropriate expressions inovolving a, b, c, and d \n",
    "# that give the correct value of zw"
   ]
  }
 ],
 "metadata": {
  "kernelspec": {
   "display_name": "Python 3 (ipykernel)",
   "language": "python",
   "name": "python3"
  },
  "language_info": {
   "codemirror_mode": {
    "name": "ipython",
    "version": 3
   },
   "file_extension": ".py",
   "mimetype": "text/x-python",
   "name": "python",
   "nbconvert_exporter": "python",
   "pygments_lexer": "ipython3",
   "version": "3.8.8"
  }
 },
 "nbformat": 4,
 "nbformat_minor": 5
}
