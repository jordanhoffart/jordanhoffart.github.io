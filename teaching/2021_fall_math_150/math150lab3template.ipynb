{
 "cells": [
  {
   "cell_type": "markdown",
   "id": "6b254bb9",
   "metadata": {},
   "source": [
    "# MATH 150 Python Lab 3\n",
    "\n",
    "## Group Members:"
   ]
  },
  {
   "cell_type": "markdown",
   "id": "2a1d0a50",
   "metadata": {},
   "source": [
    "## Problem 1\n",
    "\n",
    "Graph the following functions **along with their parent functions**. Make a different plot for each part.\n",
    "\n",
    "1. The function obtained by taking $f(x) = x^3$, shifting it to the left 2 units, reflecting it over the $x$-axis, vertically stretching it by a factor of 2, and then shifting it down 4 units. Plot the parent function on the interval $(-4, 3)$, and plot the transformed function on the interval $(-5, 1)$ **on the same plot as the parent function**.\n",
    "2. The function obtained by taking $f(x) = \\sqrt{x}$, reflecting it over the $y$-axis, shifting it to the left 2 units, vertically stretching it by a factor of 4, and then shifting it up 6 units. Plot the parent function on the interval $(0,2)$, and plot the transformed function on the interval $(-4,2)$ **on the same plot as the parent function**.\n",
    "\n",
    "Here is an example showing you what syntax you will need for this problem:"
   ]
  },
  {
   "cell_type": "code",
   "execution_count": 37,
   "id": "86a5c03e",
   "metadata": {},
   "outputs": [
    {
     "data": {
      "image/png": "[encoded data removed]",
      "text/plain": [
       "<Figure size 432x288 with 1 Axes>"
      ]
     },
     "metadata": {
      "needs_background": "light"
     },
     "output_type": "display_data"
    },
    {
     "data": {
      "text/plain": [
       "<sympy.plotting.plot.Plot at 0x20ad118f190>"
      ]
     },
     "execution_count": 37,
     "metadata": {},
     "output_type": "execute_result"
    }
   ],
   "source": [
    "# Example for Problem 1\n",
    "\n",
    "from sympy import *\n",
    "x = symbols('x')\n",
    "plot((x, (x, 1, 2)), (x**2, (x, -2, -1)))"
   ]
  },
  {
   "cell_type": "markdown",
   "id": "1e98c499",
   "metadata": {},
   "source": [
    "Now write your code that solves problem 1 in the box below:"
   ]
  },
  {
   "cell_type": "code",
   "execution_count": 38,
   "id": "bd562d6d",
   "metadata": {},
   "outputs": [],
   "source": [
    "# Problem 1 Solution"
   ]
  },
  {
   "cell_type": "markdown",
   "id": "10c15fe1",
   "metadata": {},
   "source": [
    "## Problem 2\n",
    "\n",
    "Consider a quadratic polynomial in standard form: $$ax^2 + bx + c$$ where $a \\neq 0$.  We can rewrite this quadratic in **vertex form:** $$a(x - h)^2 + k,$$ where $$h = -\\frac{b}{2a}$$ and $$k = c - \\frac{b^2}{4a}.$$ The **vertex** of a quadratic is the point $(h,k)$. The **axis of symmetry** for the quadratic is the vertical line described by the equation $x = h$. If $a > 0$, the vertex is a minumum of the quadratic, and if $a < 0$, then the vertex is a maximum of the quadratic.\n",
    "\n",
    "Write a code that does the following things:\n",
    "1. Ask the user to input values for $a$, $b$, and $c$ as defined above. The user should be able to clearly understand what $a$, $b$, and $c$ represent.\n",
    "2. Calculate $h$ and $k$.\n",
    "3. Print out to the screen the vertex form $a(x-h)^2 + k$ of the quadratic $ax^2 + bx + c$. The user should be able to clearly understand that the computer is telling them what the vertex form is.\n",
    "4. Print out to the screen the vertex of the quadratic. The user should be able to clearly understand that the computer is telling them what the vertex of the quadratic is.\n",
    "5. Print out to the screen the axis of symmetry of the quadratic. The user should be able to clearly understand that the computer is telling them what the axis of symmetry is for the quadratic.\n",
    "6. Decide if the vertex is a maximum or minimum, and print the decision to the screen. The user should be able to clearly understand that the computer is telling them if the vertex is a maximum or a minimum.\n",
    "\n",
    "After writing your code, run it one time and test with $a = 3$, $b = -2$, and $c = 1$. In other words, test your code with the quadratic $3x^2 -2x + 1$. Write your solution to problem 2 in the box below."
   ]
  },
  {
   "cell_type": "code",
   "execution_count": null,
   "id": "0125d5d6",
   "metadata": {},
   "outputs": [],
   "source": [
    "# Problem 2 Solution"
   ]
  }
 ],
 "metadata": {
  "kernelspec": {
   "display_name": "Python 3",
   "language": "python",
   "name": "python3"
  },
  "language_info": {
   "codemirror_mode": {
    "name": "ipython",
    "version": 3
   },
   "file_extension": ".py",
   "mimetype": "text/x-python",
   "name": "python",
   "nbconvert_exporter": "python",
   "pygments_lexer": "ipython3",
   "version": "3.8.8"
  }
 },
 "nbformat": 4,
 "nbformat_minor": 5
}
