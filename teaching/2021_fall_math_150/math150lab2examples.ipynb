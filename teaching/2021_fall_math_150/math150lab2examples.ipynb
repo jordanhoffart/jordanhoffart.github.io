{
 "cells": [
  {
   "cell_type": "code",
   "execution_count": null,
   "id": "0cc76af2",
   "metadata": {},
   "outputs": [],
   "source": [
    "n = 0\n",
    "while n <= 10:\n",
    "    n = n + 1\n",
    "    print(\"n =\", n)"
   ]
  },
  {
   "cell_type": "code",
   "execution_count": null,
   "id": "85ab3fb8",
   "metadata": {},
   "outputs": [],
   "source": [
    "run_again = \"yes\"\n",
    "n = 1\n",
    "\n",
    "while run_again == \"yes\":\n",
    "    n = n + 1\n",
    "    print(\"n =\", n)\n",
    "    run_again = input(\"Do you want to keep going?\")\n",
    "    print(\"run_again =\",run_again)"
   ]
  },
  {
   "cell_type": "code",
   "execution_count": null,
   "id": "246a8585",
   "metadata": {},
   "outputs": [],
   "source": [
    "from sympy import *\n",
    "x = symbols('x')\n",
    "\n",
    "solutions = solve(x**2 - 1, x)\n",
    "print(\"x =\", solutions)"
   ]
  },
  {
   "cell_type": "code",
   "execution_count": null,
   "id": "b37730fd",
   "metadata": {},
   "outputs": [],
   "source": [
    "# An example showing a common error and how to fix it\n",
    "\n",
    "# Try running this code (you will get an error)\n",
    "\n",
    "x = input(\"x = \")\n",
    "x**2"
   ]
  },
  {
   "cell_type": "code",
   "execution_count": null,
   "id": "0538ea1f",
   "metadata": {},
   "outputs": [],
   "source": [
    "# How to fix the error above \n",
    "# Try running this code (it should work)\n",
    "\n",
    "x = eval(input(\"x = \"))\n",
    "x**2"
   ]
  }
 ],
 "metadata": {
  "kernelspec": {
   "display_name": "Python 3",
   "language": "python",
   "name": "python3"
  },
  "language_info": {
   "codemirror_mode": {
    "name": "ipython",
    "version": 3
   },
   "file_extension": ".py",
   "mimetype": "text/x-python",
   "name": "python",
   "nbconvert_exporter": "python",
   "pygments_lexer": "ipython3",
   "version": "3.8.8"
  }
 },
 "nbformat": 4,
 "nbformat_minor": 5
}
