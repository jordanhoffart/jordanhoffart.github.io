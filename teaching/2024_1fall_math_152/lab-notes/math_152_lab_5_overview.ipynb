{
 "cells": [
  {
   "cell_type": "code",
   "execution_count": 2,
   "metadata": {},
   "outputs": [],
   "source": [
    "import sympy as sp\n",
    "from sympy.plotting import (plot, plot_parametric,plot3d_parametric_surface, plot3d_parametric_line,plot3d)"
   ]
  },
  {
   "cell_type": "markdown",
   "metadata": {},
   "source": [
    "EXPANDING POLYNOMIAL EQUATIONS IN PYTHON\n",
    "\n",
    "With linear factors, it can be easy to find the unknown coefficients in Partial Fraction Decomposition (if x-a is a linear factor of the denominator, let x=a after clearing the fractions).  With irreducible quadratics, finding the unknown coefficients isn't so easy.  The easiest strategy is to multiply everything out, then \"match powers\" (clearly, if two polynomials are supposed to be the same, the matching powers of x should have the same coefficients: x^2 - 3x + 5 and x^2 - 3x + (2+3) are the same, but x^2 - 3x + 5 and x^2 - 3x + (2+2) are not). \n",
    "\n",
    "In Python, we incorporate the same strategy (after clearing the fractions by hand).  \n",
    "\n",
    "Example:  Find A, B, C, and D if (Ax+B)(x^2+x+1) + (Cx+D)(x^2-x+1) = x^3"
   ]
  },
  {
   "cell_type": "code",
   "execution_count": 3,
   "metadata": {},
   "outputs": [
    {
     "name": "stdout",
     "output_type": "stream",
     "text": [
      "A*x**3 + A*x**2 + A*x + B*x**2 + B*x + B + C*x**3 - C*x**2 + C*x + D*x**2 - D*x + D\n"
     ]
    }
   ],
   "source": [
    "x=sp.symbols('x')\n",
    "A,B,C,D=sp.symbols('A B C D')\n",
    "LHS=(A*x+B)*(x**2+x+1)+(C*x+D)*(x**2-x+1)\n",
    "RHS=x**3\n",
    "# Step 1: multiply everything out on the left using the expand command\n",
    "LHSexp=sp.expand(LHS)\n",
    "print(LHSexp)"
   ]
  },
  {
   "cell_type": "markdown",
   "metadata": {},
   "source": [
    "Obviously, this is a mess.  It would be nice if Python would organize the powers for us so we can more easily match them.  Enter the collect command."
   ]
  },
  {
   "cell_type": "code",
   "execution_count": 4,
   "metadata": {},
   "outputs": [
    {
     "data": {
      "text/latex": [
       "$\\displaystyle B + D + x^{3} \\left(A + C\\right) + x^{2} \\left(A + B - C + D\\right) + x \\left(A + B + C - D\\right)$"
      ],
      "text/plain": [
       "B + D + x**3*(A + C) + x**2*(A + B - C + D) + x*(A + B + C - D)"
      ]
     },
     "execution_count": 4,
     "metadata": {},
     "output_type": "execute_result"
    }
   ],
   "source": [
    "sp.collect(LHSexp,x)"
   ]
  },
  {
   "cell_type": "markdown",
   "metadata": {},
   "source": [
    "Since this polynomial has to be equal to the RHS (x^3) for all values of x, the coefficients of x^3, x^2, and x and the constants much \"match up\" (i.e., be equal).  This gives us 4 equations to solve for the 4 variables:"
   ]
  },
  {
   "cell_type": "code",
   "execution_count": 5,
   "metadata": {},
   "outputs": [
    {
     "name": "stdout",
     "output_type": "stream",
     "text": [
      "Solution is {A: 1/2, B: -1/2, C: 1/2, D: 1/2}\n"
     ]
    }
   ],
   "source": [
    "eq1=A+C-1 # coefficients of x^3 must total 1-moved all to one side\n",
    "eq2=A+B-C+D #coefficients of x^2 must total 0\n",
    "eq3=A+B+C-D #coefficients of x must total 0\n",
    "eq4=B+D #constants must total 0\n",
    "\n",
    "# Now solve for the 4 variables. Can use matrices or the solve command (as done here)\n",
    "coeffs=sp.solve([eq1,eq2,eq3,eq4],[A,B,C,D])\n",
    "print('Solution is',coeffs)"
   ]
  },
  {
   "cell_type": "markdown",
   "metadata": {},
   "source": [
    "NOTICE that the solution is of type \"dictionary\". This means the expressions could be automatically substituted into our partial fraction expansion form (compare LHS to what you get when you clear the fractions in pfracexpand)"
   ]
  },
  {
   "cell_type": "code",
   "execution_count": 6,
   "metadata": {},
   "outputs": [
    {
     "name": "stdout",
     "output_type": "stream",
     "text": [
      "The partial fraction expansion is (x/2 - 1/2)/(x**2 - x + 1) + (x/2 + 1/2)/(x**2 + x + 1)\n"
     ]
    }
   ],
   "source": [
    "pfracexpand=(A*x+B)/(x**2-x+1)+(C*x+D)/(x**2+x+1)\n",
    "fintegrate=pfracexpand.subs(coeffs)\n",
    "print('The partial fraction expansion is',fintegrate)"
   ]
  },
  {
   "cell_type": "code",
   "execution_count": 7,
   "metadata": {},
   "outputs": [
    {
     "data": {
      "text/latex": [
       "$\\displaystyle \\frac{x - 1}{2 \\left(x^{2} - x + 1\\right)} + \\frac{x + 1}{2 \\left(x^{2} + x + 1\\right)}$"
      ],
      "text/plain": [
       "(x - 1)/(2*(x**2 - x + 1)) + (x + 1)/(2*(x**2 + x + 1))"
      ]
     },
     "execution_count": 7,
     "metadata": {},
     "output_type": "execute_result"
    }
   ],
   "source": [
    "#Check answer using the built-in function apart for f(x)=x^3/((x^2-x+1)(x^2+x+1)\n",
    "f=x**3/((x**2-x+1)*(x**2+x+1))\n",
    "sp.apart(f,x)"
   ]
  },
  {
   "cell_type": "markdown",
   "metadata": {},
   "source": [
    "The only difference is that all of the \"1/2\"s have been moved into the denominator."
   ]
  },
  {
   "cell_type": "code",
   "execution_count": null,
   "metadata": {},
   "outputs": [],
   "source": []
  }
 ],
 "metadata": {
  "kernelspec": {
   "display_name": "Python 3 (ipykernel)",
   "language": "python",
   "name": "python3"
  },
  "language_info": {
   "codemirror_mode": {
    "name": "ipython",
    "version": 3
   },
   "file_extension": ".py",
   "mimetype": "text/x-python",
   "name": "python",
   "nbconvert_exporter": "python",
   "pygments_lexer": "ipython3",
   "version": "3.9.13"
  }
 },
 "nbformat": 4,
 "nbformat_minor": 2
}
