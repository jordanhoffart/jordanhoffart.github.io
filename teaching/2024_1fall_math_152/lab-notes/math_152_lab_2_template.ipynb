{
  "cells": [
    {
      "cell_type": "markdown",
      "id": "20c00fa5",
      "metadata": {
        "id": "20c00fa5"
      },
      "source": [
        "## MATH 152 Lab 2"
      ]
    },
    {
      "cell_type": "markdown",
      "id": "7c243ef1",
      "metadata": {
        "id": "7c243ef1"
      },
      "source": [
        "Put team members' names and section number here."
      ]
    },
    {
      "cell_type": "code",
      "execution_count": null,
      "id": "cf836732",
      "metadata": {
        "id": "cf836732"
      },
      "outputs": [],
      "source": [
        "import sympy as sp\n",
        "from sympy.plotting import plot"
      ]
    },
    {
      "cell_type": "markdown",
      "id": "a0cd9e48",
      "metadata": {
        "id": "a0cd9e48"
      },
      "source": [
        "Instructions: Complete the lab assignment in your assigned groups. Unless stated otherwise, your answers should be obtained using Python code.\n",
        "\n",
        "Do not modify the cell above, as it contains all the packages you will need. It is highly recommended to not use any additional packages.\n",
        "\n",
        "NOTE: If you took MATH 151 last semester, notice that the import statement for SymPy is different- for each SymPy command you use, you have to preface it with \"sp.\" For example, \"symbols('x')\" becomes \"sp.symbols('x')\". **Except for plot and plot_parametric**- you don't need to type \"sp.\" for those."
      ]
    },
    {
      "cell_type": "markdown",
      "id": "3169990f",
      "metadata": {
        "id": "3169990f"
      },
      "source": [
        "### Question 1"
      ]
    },
    {
      "cell_type": "markdown",
      "id": "96a69c20",
      "metadata": {
        "id": "96a69c20"
      },
      "source": [
        "#### 1a"
      ]
    },
    {
      "cell_type": "code",
      "execution_count": null,
      "id": "e446931c",
      "metadata": {
        "id": "e446931c"
      },
      "outputs": [],
      "source": [
        "#start code here\n"
      ]
    },
    {
      "cell_type": "markdown",
      "id": "b351fe1a",
      "metadata": {
        "id": "b351fe1a"
      },
      "source": [
        "#### 1b"
      ]
    },
    {
      "cell_type": "code",
      "execution_count": null,
      "id": "7204ab6e",
      "metadata": {
        "id": "7204ab6e"
      },
      "outputs": [],
      "source": [
        "#start code here\n"
      ]
    },
    {
      "cell_type": "markdown",
      "id": "a7385fce",
      "metadata": {
        "id": "a7385fce"
      },
      "source": [
        "#### 1c"
      ]
    },
    {
      "cell_type": "code",
      "execution_count": null,
      "id": "c511d2d4",
      "metadata": {
        "id": "c511d2d4"
      },
      "outputs": [],
      "source": [
        "#start code here\n"
      ]
    },
    {
      "cell_type": "markdown",
      "id": "624f219e",
      "metadata": {
        "id": "624f219e"
      },
      "source": [
        "### Question 2"
      ]
    },
    {
      "cell_type": "markdown",
      "id": "f0561a86",
      "metadata": {
        "id": "f0561a86"
      },
      "source": [
        "#### 2a"
      ]
    },
    {
      "cell_type": "code",
      "execution_count": null,
      "id": "cbfab3f6",
      "metadata": {
        "id": "cbfab3f6"
      },
      "outputs": [],
      "source": [
        "#start code here\n"
      ]
    },
    {
      "cell_type": "markdown",
      "id": "efdd616f",
      "metadata": {
        "id": "efdd616f"
      },
      "source": [
        "#### 2b"
      ]
    },
    {
      "cell_type": "code",
      "execution_count": null,
      "id": "6fd5ac31",
      "metadata": {
        "id": "6fd5ac31"
      },
      "outputs": [],
      "source": [
        "#start code here\n"
      ]
    },
    {
      "cell_type": "markdown",
      "id": "b922445e",
      "metadata": {
        "id": "b922445e"
      },
      "source": [
        "### Question 3"
      ]
    },
    {
      "cell_type": "markdown",
      "id": "6889b8e7",
      "metadata": {
        "id": "6889b8e7"
      },
      "source": [
        "#### 3a"
      ]
    },
    {
      "cell_type": "code",
      "execution_count": null,
      "id": "d20a7a8e",
      "metadata": {
        "id": "d20a7a8e"
      },
      "outputs": [],
      "source": [
        "#start code here\n"
      ]
    },
    {
      "cell_type": "markdown",
      "id": "3a7e1713",
      "metadata": {
        "id": "3a7e1713"
      },
      "source": [
        "#### 3b"
      ]
    },
    {
      "cell_type": "code",
      "execution_count": null,
      "id": "8b00ae4b",
      "metadata": {
        "id": "8b00ae4b"
      },
      "outputs": [],
      "source": [
        "#start code here\n"
      ]
    },
    {
      "cell_type": "markdown",
      "id": "588fed78",
      "metadata": {
        "id": "588fed78"
      },
      "source": [
        "#### 3c"
      ]
    },
    {
      "cell_type": "code",
      "execution_count": null,
      "id": "6063c3d4",
      "metadata": {
        "id": "6063c3d4"
      },
      "outputs": [],
      "source": [
        "#start code here\n"
      ]
    },
    {
      "cell_type": "markdown",
      "id": "855a434a",
      "metadata": {
        "id": "855a434a"
      },
      "source": [
        "### Question 4"
      ]
    },
    {
      "cell_type": "markdown",
      "id": "d4c7adb9",
      "metadata": {
        "id": "d4c7adb9"
      },
      "source": [
        "#### 4a"
      ]
    },
    {
      "cell_type": "code",
      "execution_count": null,
      "id": "e20a3063",
      "metadata": {
        "id": "e20a3063"
      },
      "outputs": [],
      "source": [
        "#start code here\n"
      ]
    },
    {
      "cell_type": "markdown",
      "id": "1ef4d714",
      "metadata": {
        "id": "1ef4d714"
      },
      "source": [
        "#### 4b"
      ]
    },
    {
      "cell_type": "code",
      "execution_count": null,
      "id": "4e7b3b96",
      "metadata": {
        "id": "4e7b3b96"
      },
      "outputs": [],
      "source": [
        "#start code here\n"
      ]
    },
    {
      "cell_type": "markdown",
      "id": "a561777e",
      "metadata": {
        "id": "a561777e"
      },
      "source": [
        "#### 4c"
      ]
    },
    {
      "cell_type": "code",
      "execution_count": null,
      "id": "f83d69df",
      "metadata": {
        "id": "f83d69df"
      },
      "outputs": [],
      "source": [
        "# Write your answers as comments. Make sure all the text is visible at once when you print or save the PDF!\n"
      ]
    }
  ],
  "metadata": {
    "kernelspec": {
      "display_name": "Python 3 (ipykernel)",
      "language": "python",
      "name": "python3"
    },
    "language_info": {
      "codemirror_mode": {
        "name": "ipython",
        "version": 3
      },
      "file_extension": ".py",
      "mimetype": "text/x-python",
      "name": "python",
      "nbconvert_exporter": "python",
      "pygments_lexer": "ipython3",
      "version": "3.9.18"
    },
    "colab": {
      "provenance": []
    }
  },
  "nbformat": 4,
  "nbformat_minor": 5
}